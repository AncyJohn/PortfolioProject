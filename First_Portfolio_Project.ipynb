{
  "nbformat": 4,
  "nbformat_minor": 0,
  "metadata": {
    "accelerator": "GPU",
    "colab": {
      "name": "First Portfolio Project.ipynb",
      "provenance": []
    },
    "kernelspec": {
      "display_name": "Python 3",
      "language": "python",
      "name": "python3"
    },
    "language_info": {
      "codemirror_mode": {
        "name": "ipython",
        "version": 3
      },
      "file_extension": ".py",
      "mimetype": "text/x-python",
      "name": "python",
      "nbconvert_exporter": "python",
      "pygments_lexer": "ipython3",
      "version": "3.6.8"
    }
  },
  "cells": [
    {
      "cell_type": "markdown",
      "metadata": {
        "id": "pbKQAnw4pyyA"
      },
      "source": [
        "# Salary Predictions Based on Job Descriptions"
      ]
    },
    {
      "cell_type": "markdown",
      "metadata": {
        "id": "p7jmvCeLpyyH"
      },
      "source": [
        "# Part 1 - DEFINE"
      ]
    },
    {
      "cell_type": "markdown",
      "metadata": {
        "id": "9eo_Iq7WpyyI"
      },
      "source": [
        "### ---- 1 Define the problem ----"
      ]
    },
    {
      "cell_type": "markdown",
      "metadata": {
        "id": "oNtagmN1pyyI"
      },
      "source": [
        "Write the problem in your own words here\n",
        "This is a regression problem to predict the salaries for new job postings from the existing data."
      ]
    },
    {
      "cell_type": "code",
      "metadata": {
        "id": "VINara47pyyI"
      },
      "source": [
        "#import libraries\n",
        "##for data\n",
        "import pandas as pd\n",
        "import numpy as np\n",
        "## for plotting\n",
        "import matplotlib.pyplot as plt\n",
        "import seaborn as sns\n",
        "## for statistical tests\n",
        "import scipy\n",
        "import statsmodels.formula.api as smf\n",
        "import statsmodels.api as sm\n",
        "#import sklearn as sk\n",
        "\n",
        "## for machine learning\n",
        "from sklearn import model_selection, preprocessing, feature_selection, ensemble, linear_model, metrics, decomposition\n",
        "## for explainer\n",
        "#from lime import lime_tabular\n",
        "\n",
        "\n",
        "#your info here\n",
        "__author__ = \"Ancy John\"\n",
        "__email__ = \"ancy.14@gmail.com\""
      ],
      "execution_count": 5,
      "outputs": []
    },
    {
      "cell_type": "markdown",
      "metadata": {
        "id": "hr78xlSQpyyJ"
      },
      "source": [
        "## Part 2 - DISCOVER"
      ]
    },
    {
      "cell_type": "markdown",
      "metadata": {
        "id": "2tDW-s5KpyyK"
      },
      "source": [
        "### ---- 2 Load the data ----"
      ]
    },
    {
      "cell_type": "code",
      "metadata": {
        "id": "9wv6qLaMrXlr",
        "colab": {
          "resources": {
            "http://localhost:8080/nbextensions/google.colab/files.js": {
              "data": "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",
              "ok": true,
              "headers": [
                [
                  "content-type",
                  "application/javascript"
                ]
              ],
              "status": 200,
              "status_text": ""
            }
          },
          "base_uri": "https://localhost:8080/",
          "height": 106
        },
        "outputId": "420a765c-f6c9-4d18-8bef-331678c9c59e"
      },
      "source": [
        "# For uploading files\n",
        "from google.colab import files\n",
        "uploaded = files.upload()"
      ],
      "execution_count": 6,
      "outputs": [
        {
          "output_type": "display_data",
          "data": {
            "text/html": [
              "\n",
              "     <input type=\"file\" id=\"files-0d6557d5-2036-4363-91ef-934059b4c9d4\" name=\"files[]\" multiple disabled\n",
              "        style=\"border:none\" />\n",
              "     <output id=\"result-0d6557d5-2036-4363-91ef-934059b4c9d4\">\n",
              "      Upload widget is only available when the cell has been executed in the\n",
              "      current browser session. Please rerun this cell to enable.\n",
              "      </output>\n",
              "      <script src=\"/nbextensions/google.colab/files.js\"></script> "
            ],
            "text/plain": [
              "<IPython.core.display.HTML object>"
            ]
          },
          "metadata": {
            "tags": []
          }
        },
        {
          "output_type": "stream",
          "text": [
            "Saving train_features.csv to train_features (1).csv\n",
            "Saving train_salaries.csv to train_salaries (1).csv\n"
          ],
          "name": "stdout"
        }
      ]
    },
    {
      "cell_type": "code",
      "metadata": {
        "colab": {
          "base_uri": "https://localhost:8080/",
          "height": 204
        },
        "id": "nK0AHUA-pyyK",
        "outputId": "710cf2c3-abf2-4ae1-bad7-e535ec5f1b66"
      },
      "source": [
        "#load the data into a Pandas dataframe\n",
        "data1 = pd.read_csv(\"train_features.csv\")\n",
        "data1.head()"
      ],
      "execution_count": 7,
      "outputs": [
        {
          "output_type": "execute_result",
          "data": {
            "text/html": [
              "<div>\n",
              "<style scoped>\n",
              "    .dataframe tbody tr th:only-of-type {\n",
              "        vertical-align: middle;\n",
              "    }\n",
              "\n",
              "    .dataframe tbody tr th {\n",
              "        vertical-align: top;\n",
              "    }\n",
              "\n",
              "    .dataframe thead th {\n",
              "        text-align: right;\n",
              "    }\n",
              "</style>\n",
              "<table border=\"1\" class=\"dataframe\">\n",
              "  <thead>\n",
              "    <tr style=\"text-align: right;\">\n",
              "      <th></th>\n",
              "      <th>jobId</th>\n",
              "      <th>companyId</th>\n",
              "      <th>jobType</th>\n",
              "      <th>degree</th>\n",
              "      <th>major</th>\n",
              "      <th>industry</th>\n",
              "      <th>yearsExperience</th>\n",
              "      <th>milesFromMetropolis</th>\n",
              "    </tr>\n",
              "  </thead>\n",
              "  <tbody>\n",
              "    <tr>\n",
              "      <th>0</th>\n",
              "      <td>JOB1362684407687</td>\n",
              "      <td>COMP37</td>\n",
              "      <td>CFO</td>\n",
              "      <td>MASTERS</td>\n",
              "      <td>MATH</td>\n",
              "      <td>HEALTH</td>\n",
              "      <td>10</td>\n",
              "      <td>83</td>\n",
              "    </tr>\n",
              "    <tr>\n",
              "      <th>1</th>\n",
              "      <td>JOB1362684407688</td>\n",
              "      <td>COMP19</td>\n",
              "      <td>CEO</td>\n",
              "      <td>HIGH_SCHOOL</td>\n",
              "      <td>NONE</td>\n",
              "      <td>WEB</td>\n",
              "      <td>3</td>\n",
              "      <td>73</td>\n",
              "    </tr>\n",
              "    <tr>\n",
              "      <th>2</th>\n",
              "      <td>JOB1362684407689</td>\n",
              "      <td>COMP52</td>\n",
              "      <td>VICE_PRESIDENT</td>\n",
              "      <td>DOCTORAL</td>\n",
              "      <td>PHYSICS</td>\n",
              "      <td>HEALTH</td>\n",
              "      <td>10</td>\n",
              "      <td>38</td>\n",
              "    </tr>\n",
              "    <tr>\n",
              "      <th>3</th>\n",
              "      <td>JOB1362684407690</td>\n",
              "      <td>COMP38</td>\n",
              "      <td>MANAGER</td>\n",
              "      <td>DOCTORAL</td>\n",
              "      <td>CHEMISTRY</td>\n",
              "      <td>AUTO</td>\n",
              "      <td>8</td>\n",
              "      <td>17</td>\n",
              "    </tr>\n",
              "    <tr>\n",
              "      <th>4</th>\n",
              "      <td>JOB1362684407691</td>\n",
              "      <td>COMP7</td>\n",
              "      <td>VICE_PRESIDENT</td>\n",
              "      <td>BACHELORS</td>\n",
              "      <td>PHYSICS</td>\n",
              "      <td>FINANCE</td>\n",
              "      <td>8</td>\n",
              "      <td>16</td>\n",
              "    </tr>\n",
              "  </tbody>\n",
              "</table>\n",
              "</div>"
            ],
            "text/plain": [
              "              jobId companyId  ... yearsExperience milesFromMetropolis\n",
              "0  JOB1362684407687    COMP37  ...              10                  83\n",
              "1  JOB1362684407688    COMP19  ...               3                  73\n",
              "2  JOB1362684407689    COMP52  ...              10                  38\n",
              "3  JOB1362684407690    COMP38  ...               8                  17\n",
              "4  JOB1362684407691     COMP7  ...               8                  16\n",
              "\n",
              "[5 rows x 8 columns]"
            ]
          },
          "metadata": {
            "tags": []
          },
          "execution_count": 7
        }
      ]
    },
    {
      "cell_type": "code",
      "metadata": {
        "id": "-wYCvT7hpyyL",
        "outputId": "219e6607-4882-4e10-c913-80f87cc276bc"
      },
      "source": [
        "data1.shape # To view the structure of the dataframe"
      ],
      "execution_count": null,
      "outputs": [
        {
          "output_type": "execute_result",
          "data": {
            "text/plain": [
              "(1000000, 8)"
            ]
          },
          "metadata": {
            "tags": []
          },
          "execution_count": 18
        }
      ]
    },
    {
      "cell_type": "code",
      "metadata": {
        "id": "2g3iqG2jpyyL",
        "outputId": "714e19b9-97f6-4b7e-b6bc-e0e52f84f615"
      },
      "source": [
        "data1.isnull().sum() # To check for the null values"
      ],
      "execution_count": null,
      "outputs": [
        {
          "output_type": "execute_result",
          "data": {
            "text/plain": [
              "jobId                  0\n",
              "companyId              0\n",
              "jobType                0\n",
              "degree                 0\n",
              "major                  0\n",
              "industry               0\n",
              "yearsExperience        0\n",
              "milesFromMetropolis    0\n",
              "dtype: int64"
            ]
          },
          "metadata": {
            "tags": []
          },
          "execution_count": 20
        }
      ]
    },
    {
      "cell_type": "code",
      "metadata": {
        "id": "r8XLguyVpyyM"
      },
      "source": [
        "# Define a function to visualize the dataframe datatypes\n",
        "def utils_recognize_type(data, col, max_cat=20):\n",
        "    if (data[col].dtype == \"O\") | (data[col].nunique() < max_cat):\n",
        "        return \"cat\"\n",
        "    else:\n",
        "        return \"num\""
      ],
      "execution_count": null,
      "outputs": []
    },
    {
      "cell_type": "code",
      "metadata": {
        "id": "92KxUlf4pyyM",
        "outputId": "b960e19c-6ac8-494a-968e-0d85a317545b"
      },
      "source": [
        "dic_cols = {col:utils_recognize_type(data1, col, max_cat=20) for col in data1.columns}\n",
        "heatmap = data1.isnull()\n",
        "for k,v in dic_cols.items():\n",
        " if v == \"num\":\n",
        "   heatmap[k] = heatmap[k].apply(lambda x: 0.5 if x is False else 1)\n",
        " else:\n",
        "   heatmap[k] = heatmap[k].apply(lambda x: 0 if x is False else 1)\n",
        "sns.heatmap(heatmap, cbar=False).set_title('Dataset Overview')\n",
        "plt.show()\n",
        "print(\"\\033[1;37;40m Categerocial \", \"\\033[1;30;41m Numeric \", \"\\033[1;30;47m NaN \")"
      ],
      "execution_count": null,
      "outputs": [
        {
          "output_type": "display_data",
          "data": {
            "image/png": "[encoded data removed]",
            "text/plain": [
              "<Figure size 432x288 with 1 Axes>"
            ]
          },
          "metadata": {
            "tags": []
          }
        },
        {
          "output_type": "stream",
          "text": [
            "\u001b[1;37;40m Categerocial  \u001b[1;30;41m Numeric  \u001b[1;30;47m NaN \n"
          ],
          "name": "stdout"
        }
      ]
    },
    {
      "cell_type": "code",
      "metadata": {
        "id": "K1VyXNCRpyyN",
        "outputId": "90855407-30af-42df-aee6-b08226d64a89"
      },
      "source": [
        "data1.info() # info on columns"
      ],
      "execution_count": null,
      "outputs": [
        {
          "output_type": "stream",
          "text": [
            "<class 'pandas.core.frame.DataFrame'>\n",
            "RangeIndex: 1000000 entries, 0 to 999999\n",
            "Data columns (total 8 columns):\n",
            " #   Column               Non-Null Count    Dtype \n",
            "---  ------               --------------    ----- \n",
            " 0   jobId                1000000 non-null  object\n",
            " 1   companyId            1000000 non-null  object\n",
            " 2   jobType              1000000 non-null  object\n",
            " 3   degree               1000000 non-null  object\n",
            " 4   major                1000000 non-null  object\n",
            " 5   industry             1000000 non-null  object\n",
            " 6   yearsExperience      1000000 non-null  int64 \n",
            " 7   milesFromMetropolis  1000000 non-null  int64 \n",
            "dtypes: int64(2), object(6)\n",
            "memory usage: 61.0+ MB\n"
          ],
          "name": "stdout"
        }
      ]
    },
    {
      "cell_type": "code",
      "metadata": {
        "colab": {
          "base_uri": "https://localhost:8080/",
          "height": 204
        },
        "id": "JMjrG89JpyyN",
        "outputId": "9258a50b-71e9-4fde-8276-260aba29770e"
      },
      "source": [
        "data2 = pd.read_csv(\"train_salaries.csv\")\n",
        "data2.head()"
      ],
      "execution_count": 8,
      "outputs": [
        {
          "output_type": "execute_result",
          "data": {
            "text/html": [
              "<div>\n",
              "<style scoped>\n",
              "    .dataframe tbody tr th:only-of-type {\n",
              "        vertical-align: middle;\n",
              "    }\n",
              "\n",
              "    .dataframe tbody tr th {\n",
              "        vertical-align: top;\n",
              "    }\n",
              "\n",
              "    .dataframe thead th {\n",
              "        text-align: right;\n",
              "    }\n",
              "</style>\n",
              "<table border=\"1\" class=\"dataframe\">\n",
              "  <thead>\n",
              "    <tr style=\"text-align: right;\">\n",
              "      <th></th>\n",
              "      <th>jobId</th>\n",
              "      <th>salary</th>\n",
              "    </tr>\n",
              "  </thead>\n",
              "  <tbody>\n",
              "    <tr>\n",
              "      <th>0</th>\n",
              "      <td>JOB1362684407687</td>\n",
              "      <td>130</td>\n",
              "    </tr>\n",
              "    <tr>\n",
              "      <th>1</th>\n",
              "      <td>JOB1362684407688</td>\n",
              "      <td>101</td>\n",
              "    </tr>\n",
              "    <tr>\n",
              "      <th>2</th>\n",
              "      <td>JOB1362684407689</td>\n",
              "      <td>137</td>\n",
              "    </tr>\n",
              "    <tr>\n",
              "      <th>3</th>\n",
              "      <td>JOB1362684407690</td>\n",
              "      <td>142</td>\n",
              "    </tr>\n",
              "    <tr>\n",
              "      <th>4</th>\n",
              "      <td>JOB1362684407691</td>\n",
              "      <td>163</td>\n",
              "    </tr>\n",
              "  </tbody>\n",
              "</table>\n",
              "</div>"
            ],
            "text/plain": [
              "              jobId  salary\n",
              "0  JOB1362684407687     130\n",
              "1  JOB1362684407688     101\n",
              "2  JOB1362684407689     137\n",
              "3  JOB1362684407690     142\n",
              "4  JOB1362684407691     163"
            ]
          },
          "metadata": {
            "tags": []
          },
          "execution_count": 8
        }
      ]
    },
    {
      "cell_type": "code",
      "metadata": {
        "id": "htNwC8IfpyyO"
      },
      "source": [
        "data2.info()"
      ],
      "execution_count": null,
      "outputs": []
    },
    {
      "cell_type": "code",
      "metadata": {
        "id": "fDyiQDOOpyyO",
        "outputId": "f6c077c1-cc25-4402-d145-7f92d25587b2"
      },
      "source": [
        "data2.isnull().sum() # To check for the null values"
      ],
      "execution_count": null,
      "outputs": [
        {
          "output_type": "execute_result",
          "data": {
            "text/plain": [
              "jobId     0\n",
              "salary    0\n",
              "dtype: int64"
            ]
          },
          "metadata": {
            "tags": []
          },
          "execution_count": 21
        }
      ]
    },
    {
      "cell_type": "markdown",
      "metadata": {
        "id": "i_NqE6RFpyyP"
      },
      "source": [
        "### ---- 3 Clean the data ----\n",
        "#look for duplicate data, invalid data (e.g. salaries <=0), or corrupt data and remove it"
      ]
    },
    {
      "cell_type": "code",
      "metadata": {
        "id": "68H7Mg8vpyyP",
        "outputId": "f5716bee-b101-46a0-d70b-ab8768707136"
      },
      "source": [
        "# Distribution of the target variable\n",
        "x = \"salary\"\n",
        "fig, ax = plt.subplots(nrows=1, ncols=2,  sharex=False, sharey=False)\n",
        "fig.suptitle(x, fontsize=20)\n",
        "### distribution\n",
        "ax[0].title.set_text('distribution')\n",
        "variable = data2[x].fillna(data2[x].mean())\n",
        "#variable = data2[x].apply(np.log) #Log transformed target variable\n",
        "#variable = variable.fillna(variable.mean()) \n",
        "breaks = np.quantile(variable, q=np.linspace(0, 1, 11))\n",
        "variable = variable[ (variable > breaks[0]) & (variable < \n",
        "                    breaks[10]) ]\n",
        "sns.distplot(variable, hist=True, kde=True, kde_kws={\"shade\": True}, ax=ax[0])\n",
        "des = data2[x].describe()\n",
        "ax[0].axvline(des[\"25%\"], ls='--')\n",
        "ax[0].axvline(des[\"mean\"], ls='--')\n",
        "ax[0].axvline(des[\"75%\"], ls='--')\n",
        "ax[0].grid(True)\n",
        "des = round(des, 2).apply(lambda x: str(x))\n",
        "box = '\\n'.join((\"min: \"+des[\"min\"], \"25%: \"+des[\"25%\"], \"mean: \"+des[\"mean\"], \"75%: \"+des[\"75%\"], \"max: \"+des[\"max\"]))\n",
        "ax[0].text(0.95, 0.95, box, transform=ax[0].transAxes, fontsize=10, va='top', ha=\"right\", bbox=dict(boxstyle='round', facecolor='white', alpha=1))\n",
        "\n",
        "### boxplot \n",
        "ax[1].title.set_text('outliers (log scale)')\n",
        "tmp_dtf = pd.DataFrame(data2[x])\n",
        "tmp_dtf[x] = np.log(tmp_dtf[x])\n",
        "tmp_dtf.boxplot(column=x, ax=ax[1])\n",
        "plt.show()"
      ],
      "execution_count": null,
      "outputs": [
        {
          "output_type": "stream",
          "text": [
            "/home/ancy/.local/lib/python3.6/site-packages/seaborn/distributions.py:2557: FutureWarning: `distplot` is a deprecated function and will be removed in a future version. Please adapt your code to use either `displot` (a figure-level function with similar flexibility) or `histplot` (an axes-level function for histograms).\n",
            "  warnings.warn(msg, FutureWarning)\n",
            "/home/ancy/.local/lib/python3.6/site-packages/pandas/core/series.py:726: RuntimeWarning: divide by zero encountered in log\n",
            "  result = getattr(ufunc, method)(*inputs, **kwargs)\n"
          ],
          "name": "stderr"
        },
        {
          "output_type": "display_data",
          "data": {
            "image/png": "[encoded data removed]",
            "text/plain": [
              "<Figure size 432x288 with 2 Axes>"
            ]
          },
          "metadata": {
            "tags": []
          }
        }
      ]
    },
    {
      "cell_type": "markdown",
      "metadata": {
        "id": "mAKZvRo-pyyQ"
      },
      "source": [
        "No negative values for 'salary' the target variable. We do not have to log transform the target variable as the data is almost symmetrical."
      ]
    },
    {
      "cell_type": "code",
      "metadata": {
        "id": "V6AgeV0FpyyR",
        "outputId": "e52c8c04-a52a-47e4-dfe7-fc606781e1bd"
      },
      "source": [
        "data1[['yearsExperience','milesFromMetropolis']].min() # To check for the minimum values"
      ],
      "execution_count": null,
      "outputs": [
        {
          "output_type": "execute_result",
          "data": {
            "text/plain": [
              "yearsExperience        0\n",
              "milesFromMetropolis    0\n",
              "dtype: int64"
            ]
          },
          "metadata": {
            "tags": []
          },
          "execution_count": 14
        }
      ]
    },
    {
      "cell_type": "code",
      "metadata": {
        "id": "zeEXIb4rpyyR",
        "outputId": "0313eaad-1307-444a-8a32-9efaa58d08ea"
      },
      "source": [
        "data2.min(numeric_only=True)"
      ],
      "execution_count": null,
      "outputs": [
        {
          "output_type": "execute_result",
          "data": {
            "text/plain": [
              "salary    0\n",
              "dtype: int64"
            ]
          },
          "metadata": {
            "tags": []
          },
          "execution_count": 16
        }
      ]
    },
    {
      "cell_type": "markdown",
      "metadata": {
        "id": "84k-ZeV1pyyR"
      },
      "source": [
        "### ---- 4 Explore the data (EDA) ----\n"
      ]
    },
    {
      "cell_type": "code",
      "metadata": {
        "id": "uO-uEtChpyyS"
      },
      "source": [
        "#To set indexing for the dataframe\n",
        "data1 = data1.set_index(\"jobId\")\n",
        "data2 = data2.set_index(\"jobId\")"
      ],
      "execution_count": 9,
      "outputs": []
    },
    {
      "cell_type": "code",
      "metadata": {
        "id": "zy0_QXMApyyS"
      },
      "source": [
        "#Merging datasets at the index\n",
        "data = data1.join(data2)\n",
        "#data.head()"
      ],
      "execution_count": 10,
      "outputs": []
    },
    {
      "cell_type": "code",
      "metadata": {
        "id": "O3f64j8hpyyT",
        "outputId": "eeebfaa6-2a98-49e0-bfe7-26d17bf9f028"
      },
      "source": [
        "data.duplicated().sum() #Checking duplicated rows"
      ],
      "execution_count": null,
      "outputs": [
        {
          "output_type": "execute_result",
          "data": {
            "text/plain": [
              "186"
            ]
          },
          "metadata": {
            "tags": []
          },
          "execution_count": 33
        }
      ]
    },
    {
      "cell_type": "code",
      "metadata": {
        "id": "2JIJZUCbpyyT",
        "outputId": "76a721e1-576d-440b-e5f7-3ae02894c2f8"
      },
      "source": [
        "data.shape"
      ],
      "execution_count": null,
      "outputs": [
        {
          "output_type": "execute_result",
          "data": {
            "text/plain": [
              "(1000000, 8)"
            ]
          },
          "metadata": {
            "tags": []
          },
          "execution_count": 34
        }
      ]
    },
    {
      "cell_type": "code",
      "metadata": {
        "colab": {
          "base_uri": "https://localhost:8080/",
          "height": 450
        },
        "id": "QFDdbfl6pyyT",
        "outputId": "26131fe2-f0de-4e71-8592-9ffd01ce38c7"
      },
      "source": [
        "data.drop_duplicates(subset=None, keep='first', inplace=False) #To drop duplicate rows"
      ],
      "execution_count": 11,
      "outputs": [
        {
          "output_type": "execute_result",
          "data": {
            "text/html": [
              "<div>\n",
              "<style scoped>\n",
              "    .dataframe tbody tr th:only-of-type {\n",
              "        vertical-align: middle;\n",
              "    }\n",
              "\n",
              "    .dataframe tbody tr th {\n",
              "        vertical-align: top;\n",
              "    }\n",
              "\n",
              "    .dataframe thead th {\n",
              "        text-align: right;\n",
              "    }\n",
              "</style>\n",
              "<table border=\"1\" class=\"dataframe\">\n",
              "  <thead>\n",
              "    <tr style=\"text-align: right;\">\n",
              "      <th></th>\n",
              "      <th>companyId</th>\n",
              "      <th>jobType</th>\n",
              "      <th>degree</th>\n",
              "      <th>major</th>\n",
              "      <th>industry</th>\n",
              "      <th>yearsExperience</th>\n",
              "      <th>milesFromMetropolis</th>\n",
              "      <th>salary</th>\n",
              "    </tr>\n",
              "    <tr>\n",
              "      <th>jobId</th>\n",
              "      <th></th>\n",
              "      <th></th>\n",
              "      <th></th>\n",
              "      <th></th>\n",
              "      <th></th>\n",
              "      <th></th>\n",
              "      <th></th>\n",
              "      <th></th>\n",
              "    </tr>\n",
              "  </thead>\n",
              "  <tbody>\n",
              "    <tr>\n",
              "      <th>JOB1362684407687</th>\n",
              "      <td>COMP37</td>\n",
              "      <td>CFO</td>\n",
              "      <td>MASTERS</td>\n",
              "      <td>MATH</td>\n",
              "      <td>HEALTH</td>\n",
              "      <td>10</td>\n",
              "      <td>83</td>\n",
              "      <td>130</td>\n",
              "    </tr>\n",
              "    <tr>\n",
              "      <th>JOB1362684407688</th>\n",
              "      <td>COMP19</td>\n",
              "      <td>CEO</td>\n",
              "      <td>HIGH_SCHOOL</td>\n",
              "      <td>NONE</td>\n",
              "      <td>WEB</td>\n",
              "      <td>3</td>\n",
              "      <td>73</td>\n",
              "      <td>101</td>\n",
              "    </tr>\n",
              "    <tr>\n",
              "      <th>JOB1362684407689</th>\n",
              "      <td>COMP52</td>\n",
              "      <td>VICE_PRESIDENT</td>\n",
              "      <td>DOCTORAL</td>\n",
              "      <td>PHYSICS</td>\n",
              "      <td>HEALTH</td>\n",
              "      <td>10</td>\n",
              "      <td>38</td>\n",
              "      <td>137</td>\n",
              "    </tr>\n",
              "    <tr>\n",
              "      <th>JOB1362684407690</th>\n",
              "      <td>COMP38</td>\n",
              "      <td>MANAGER</td>\n",
              "      <td>DOCTORAL</td>\n",
              "      <td>CHEMISTRY</td>\n",
              "      <td>AUTO</td>\n",
              "      <td>8</td>\n",
              "      <td>17</td>\n",
              "      <td>142</td>\n",
              "    </tr>\n",
              "    <tr>\n",
              "      <th>JOB1362684407691</th>\n",
              "      <td>COMP7</td>\n",
              "      <td>VICE_PRESIDENT</td>\n",
              "      <td>BACHELORS</td>\n",
              "      <td>PHYSICS</td>\n",
              "      <td>FINANCE</td>\n",
              "      <td>8</td>\n",
              "      <td>16</td>\n",
              "      <td>163</td>\n",
              "    </tr>\n",
              "    <tr>\n",
              "      <th>...</th>\n",
              "      <td>...</td>\n",
              "      <td>...</td>\n",
              "      <td>...</td>\n",
              "      <td>...</td>\n",
              "      <td>...</td>\n",
              "      <td>...</td>\n",
              "      <td>...</td>\n",
              "      <td>...</td>\n",
              "    </tr>\n",
              "    <tr>\n",
              "      <th>JOB1362685407682</th>\n",
              "      <td>COMP56</td>\n",
              "      <td>VICE_PRESIDENT</td>\n",
              "      <td>BACHELORS</td>\n",
              "      <td>CHEMISTRY</td>\n",
              "      <td>HEALTH</td>\n",
              "      <td>19</td>\n",
              "      <td>94</td>\n",
              "      <td>88</td>\n",
              "    </tr>\n",
              "    <tr>\n",
              "      <th>JOB1362685407683</th>\n",
              "      <td>COMP24</td>\n",
              "      <td>CTO</td>\n",
              "      <td>HIGH_SCHOOL</td>\n",
              "      <td>NONE</td>\n",
              "      <td>FINANCE</td>\n",
              "      <td>12</td>\n",
              "      <td>35</td>\n",
              "      <td>160</td>\n",
              "    </tr>\n",
              "    <tr>\n",
              "      <th>JOB1362685407684</th>\n",
              "      <td>COMP23</td>\n",
              "      <td>JUNIOR</td>\n",
              "      <td>HIGH_SCHOOL</td>\n",
              "      <td>NONE</td>\n",
              "      <td>EDUCATION</td>\n",
              "      <td>16</td>\n",
              "      <td>81</td>\n",
              "      <td>64</td>\n",
              "    </tr>\n",
              "    <tr>\n",
              "      <th>JOB1362685407685</th>\n",
              "      <td>COMP3</td>\n",
              "      <td>CFO</td>\n",
              "      <td>MASTERS</td>\n",
              "      <td>NONE</td>\n",
              "      <td>HEALTH</td>\n",
              "      <td>6</td>\n",
              "      <td>5</td>\n",
              "      <td>149</td>\n",
              "    </tr>\n",
              "    <tr>\n",
              "      <th>JOB1362685407686</th>\n",
              "      <td>COMP59</td>\n",
              "      <td>JUNIOR</td>\n",
              "      <td>BACHELORS</td>\n",
              "      <td>NONE</td>\n",
              "      <td>EDUCATION</td>\n",
              "      <td>20</td>\n",
              "      <td>11</td>\n",
              "      <td>88</td>\n",
              "    </tr>\n",
              "  </tbody>\n",
              "</table>\n",
              "<p>999814 rows × 8 columns</p>\n",
              "</div>"
            ],
            "text/plain": [
              "                 companyId         jobType  ... milesFromMetropolis salary\n",
              "jobId                                       ...                           \n",
              "JOB1362684407687    COMP37             CFO  ...                  83    130\n",
              "JOB1362684407688    COMP19             CEO  ...                  73    101\n",
              "JOB1362684407689    COMP52  VICE_PRESIDENT  ...                  38    137\n",
              "JOB1362684407690    COMP38         MANAGER  ...                  17    142\n",
              "JOB1362684407691     COMP7  VICE_PRESIDENT  ...                  16    163\n",
              "...                    ...             ...  ...                 ...    ...\n",
              "JOB1362685407682    COMP56  VICE_PRESIDENT  ...                  94     88\n",
              "JOB1362685407683    COMP24             CTO  ...                  35    160\n",
              "JOB1362685407684    COMP23          JUNIOR  ...                  81     64\n",
              "JOB1362685407685     COMP3             CFO  ...                   5    149\n",
              "JOB1362685407686    COMP59          JUNIOR  ...                  11     88\n",
              "\n",
              "[999814 rows x 8 columns]"
            ]
          },
          "metadata": {
            "tags": []
          },
          "execution_count": 11
        }
      ]
    },
    {
      "cell_type": "code",
      "metadata": {
        "id": "hEN3wzGIpyyU",
        "outputId": "930840b0-8dd2-40c6-f315-761e1b97de44"
      },
      "source": [
        "data.corr() #Correlation between the numeric columns"
      ],
      "execution_count": null,
      "outputs": [
        {
          "output_type": "execute_result",
          "data": {
            "text/html": [
              "<div>\n",
              "<style scoped>\n",
              "    .dataframe tbody tr th:only-of-type {\n",
              "        vertical-align: middle;\n",
              "    }\n",
              "\n",
              "    .dataframe tbody tr th {\n",
              "        vertical-align: top;\n",
              "    }\n",
              "\n",
              "    .dataframe thead th {\n",
              "        text-align: right;\n",
              "    }\n",
              "</style>\n",
              "<table border=\"1\" class=\"dataframe\">\n",
              "  <thead>\n",
              "    <tr style=\"text-align: right;\">\n",
              "      <th></th>\n",
              "      <th>yearsExperience</th>\n",
              "      <th>milesFromMetropolis</th>\n",
              "      <th>salary</th>\n",
              "    </tr>\n",
              "  </thead>\n",
              "  <tbody>\n",
              "    <tr>\n",
              "      <th>yearsExperience</th>\n",
              "      <td>1.000000</td>\n",
              "      <td>0.000673</td>\n",
              "      <td>0.375013</td>\n",
              "    </tr>\n",
              "    <tr>\n",
              "      <th>milesFromMetropolis</th>\n",
              "      <td>0.000673</td>\n",
              "      <td>1.000000</td>\n",
              "      <td>-0.297666</td>\n",
              "    </tr>\n",
              "    <tr>\n",
              "      <th>salary</th>\n",
              "      <td>0.375013</td>\n",
              "      <td>-0.297666</td>\n",
              "      <td>1.000000</td>\n",
              "    </tr>\n",
              "  </tbody>\n",
              "</table>\n",
              "</div>"
            ],
            "text/plain": [
              "                     yearsExperience  milesFromMetropolis    salary\n",
              "yearsExperience             1.000000             0.000673  0.375013\n",
              "milesFromMetropolis         0.000673             1.000000 -0.297666\n",
              "salary                      0.375013            -0.297666  1.000000"
            ]
          },
          "metadata": {
            "tags": []
          },
          "execution_count": 24
        }
      ]
    },
    {
      "cell_type": "code",
      "metadata": {
        "id": "iUacqf0opyyU"
      },
      "source": [
        "#To convert dtype\n",
        "#data = data.select_dtypes(include= 'object').astype('category') \n",
        "#data.info()"
      ],
      "execution_count": null,
      "outputs": []
    },
    {
      "cell_type": "code",
      "metadata": {
        "id": "AiAi37oKpyyU",
        "outputId": "b7ce64fe-a234-4f86-d669-b6bffb8837ba"
      },
      "source": [
        "print(data.nunique()) # Count of distinct values in each column"
      ],
      "execution_count": null,
      "outputs": [
        {
          "output_type": "stream",
          "text": [
            "companyId               63\n",
            "jobType                  8\n",
            "degree                   5\n",
            "major                    9\n",
            "industry                 7\n",
            "yearsExperience         25\n",
            "milesFromMetropolis    100\n",
            "salary                 280\n",
            "dtype: int64\n"
          ],
          "name": "stdout"
        }
      ]
    },
    {
      "cell_type": "markdown",
      "metadata": {
        "id": "yOoxpDMnpyyV"
      },
      "source": [
        "Feature distributions: to visualize the relationship between the features and the response.\n",
        "We use bar plots for categorical features and scatter plots for numerical features."
      ]
    },
    {
      "cell_type": "code",
      "metadata": {
        "id": "_lYHDPFepyyV",
        "outputId": "d0557881-f656-4897-e663-4a12b4b79e26"
      },
      "source": [
        "fig, axs = plt.subplots(2, 4, sharey=True)\n",
        "data.plot(kind='scatter', x='companyId', y='salary', ax=axs[0,0], figsize=(15, 7), rot=90)\n",
        "data.plot(kind='scatter', x='jobType', y='salary', ax=axs[0,1], rot=90)\n",
        "data.plot(kind='scatter', x='degree', y='salary', ax=axs[0,2], rot=90)\n",
        "data.plot(kind='scatter', x='major', y='salary', ax=axs[0,3], rot=90)\n",
        "data.plot(kind='scatter', x='industry', y='salary', ax=axs[1,0], rot=90)\n",
        "data.plot(kind='scatter', x='yearsExperience', y='salary', ax=axs[1,1])\n",
        "data.plot(kind='scatter', x='milesFromMetropolis', y='salary', ax=axs[1,2])\n",
        "plt.show()"
      ],
      "execution_count": null,
      "outputs": [
        {
          "output_type": "display_data",
          "data": {
            "image/png": "[encoded data removed]",
            "text/plain": [
              "<Figure size 1080x504 with 8 Axes>"
            ]
          },
          "metadata": {
            "tags": []
          }
        }
      ]
    },
    {
      "cell_type": "code",
      "metadata": {
        "id": "yleh-XOrpyyV",
        "outputId": "5756e22c-ebf3-497f-d7af-6c0867501e7d"
      },
      "source": [
        "from pandas.plotting import scatter_matrix\n",
        "scatter_matrix(data, alpha=0.2, figsize=(6, 6), diagonal=\"kde\");"
      ],
      "execution_count": null,
      "outputs": [
        {
          "output_type": "display_data",
          "data": {
            "image/png": "[encoded data removed]",
            "text/plain": [
              "<Figure size 432x432 with 9 Axes>"
            ]
          },
          "metadata": {
            "tags": []
          }
        }
      ]
    },
    {
      "cell_type": "code",
      "metadata": {
        "id": "zvi3uu3xpyyW",
        "outputId": "90d7314c-f0eb-4257-d9df-ce1ab2f00da6"
      },
      "source": [
        "data.head()"
      ],
      "execution_count": null,
      "outputs": [
        {
          "output_type": "execute_result",
          "data": {
            "text/html": [
              "<div>\n",
              "<style scoped>\n",
              "    .dataframe tbody tr th:only-of-type {\n",
              "        vertical-align: middle;\n",
              "    }\n",
              "\n",
              "    .dataframe tbody tr th {\n",
              "        vertical-align: top;\n",
              "    }\n",
              "\n",
              "    .dataframe thead th {\n",
              "        text-align: right;\n",
              "    }\n",
              "</style>\n",
              "<table border=\"1\" class=\"dataframe\">\n",
              "  <thead>\n",
              "    <tr style=\"text-align: right;\">\n",
              "      <th></th>\n",
              "      <th>companyId</th>\n",
              "      <th>jobType</th>\n",
              "      <th>degree</th>\n",
              "      <th>major</th>\n",
              "      <th>industry</th>\n",
              "      <th>yearsExperience</th>\n",
              "      <th>milesFromMetropolis</th>\n",
              "      <th>salary</th>\n",
              "    </tr>\n",
              "    <tr>\n",
              "      <th>jobId</th>\n",
              "      <th></th>\n",
              "      <th></th>\n",
              "      <th></th>\n",
              "      <th></th>\n",
              "      <th></th>\n",
              "      <th></th>\n",
              "      <th></th>\n",
              "      <th></th>\n",
              "    </tr>\n",
              "  </thead>\n",
              "  <tbody>\n",
              "    <tr>\n",
              "      <th>JOB1362684407687</th>\n",
              "      <td>COMP37</td>\n",
              "      <td>CFO</td>\n",
              "      <td>MASTERS</td>\n",
              "      <td>MATH</td>\n",
              "      <td>HEALTH</td>\n",
              "      <td>10</td>\n",
              "      <td>83</td>\n",
              "      <td>130</td>\n",
              "    </tr>\n",
              "    <tr>\n",
              "      <th>JOB1362684407688</th>\n",
              "      <td>COMP19</td>\n",
              "      <td>CEO</td>\n",
              "      <td>HIGH_SCHOOL</td>\n",
              "      <td>NONE</td>\n",
              "      <td>WEB</td>\n",
              "      <td>3</td>\n",
              "      <td>73</td>\n",
              "      <td>101</td>\n",
              "    </tr>\n",
              "    <tr>\n",
              "      <th>JOB1362684407689</th>\n",
              "      <td>COMP52</td>\n",
              "      <td>VICE_PRESIDENT</td>\n",
              "      <td>DOCTORAL</td>\n",
              "      <td>PHYSICS</td>\n",
              "      <td>HEALTH</td>\n",
              "      <td>10</td>\n",
              "      <td>38</td>\n",
              "      <td>137</td>\n",
              "    </tr>\n",
              "    <tr>\n",
              "      <th>JOB1362684407690</th>\n",
              "      <td>COMP38</td>\n",
              "      <td>MANAGER</td>\n",
              "      <td>DOCTORAL</td>\n",
              "      <td>CHEMISTRY</td>\n",
              "      <td>AUTO</td>\n",
              "      <td>8</td>\n",
              "      <td>17</td>\n",
              "      <td>142</td>\n",
              "    </tr>\n",
              "    <tr>\n",
              "      <th>JOB1362684407691</th>\n",
              "      <td>COMP7</td>\n",
              "      <td>VICE_PRESIDENT</td>\n",
              "      <td>BACHELORS</td>\n",
              "      <td>PHYSICS</td>\n",
              "      <td>FINANCE</td>\n",
              "      <td>8</td>\n",
              "      <td>16</td>\n",
              "      <td>163</td>\n",
              "    </tr>\n",
              "  </tbody>\n",
              "</table>\n",
              "</div>"
            ],
            "text/plain": [
              "                 companyId         jobType       degree      major industry  \\\n",
              "jobId                                                                         \n",
              "JOB1362684407687    COMP37             CFO      MASTERS       MATH   HEALTH   \n",
              "JOB1362684407688    COMP19             CEO  HIGH_SCHOOL       NONE      WEB   \n",
              "JOB1362684407689    COMP52  VICE_PRESIDENT     DOCTORAL    PHYSICS   HEALTH   \n",
              "JOB1362684407690    COMP38         MANAGER     DOCTORAL  CHEMISTRY     AUTO   \n",
              "JOB1362684407691     COMP7  VICE_PRESIDENT    BACHELORS    PHYSICS  FINANCE   \n",
              "\n",
              "                  yearsExperience  milesFromMetropolis  salary  \n",
              "jobId                                                           \n",
              "JOB1362684407687               10                   83     130  \n",
              "JOB1362684407688                3                   73     101  \n",
              "JOB1362684407689               10                   38     137  \n",
              "JOB1362684407690                8                   17     142  \n",
              "JOB1362684407691                8                   16     163  "
            ]
          },
          "metadata": {
            "tags": []
          },
          "execution_count": 56
        }
      ]
    },
    {
      "cell_type": "code",
      "metadata": {
        "colab": {
          "base_uri": "https://localhost:8080/",
          "height": 235
        },
        "id": "D52P_6otpyyW",
        "outputId": "07814cc7-4ef3-424a-ae25-a9f1445deb57"
      },
      "source": [
        "# Label encoding for ordinal categorical features\n",
        "data_encoded = data.copy(deep = True) #to create a copy for the dataframe\n",
        "le = preprocessing.LabelEncoder()\n",
        "data_encoded['companyId'] = le.fit_transform(data_encoded['companyId'])\n",
        "data_encoded['jobType'] = le.fit_transform(data_encoded.jobType.values)\n",
        "data_encoded['degree'] = le.fit_transform(data_encoded['degree'])\n",
        "data_encoded['major'] = le.fit_transform(data_encoded['major'])\n",
        "data_encoded['industry'] = le.fit_transform(data_encoded.industry.values)\n",
        "data_encoded.head()"
      ],
      "execution_count": 12,
      "outputs": [
        {
          "output_type": "execute_result",
          "data": {
            "text/html": [
              "<div>\n",
              "<style scoped>\n",
              "    .dataframe tbody tr th:only-of-type {\n",
              "        vertical-align: middle;\n",
              "    }\n",
              "\n",
              "    .dataframe tbody tr th {\n",
              "        vertical-align: top;\n",
              "    }\n",
              "\n",
              "    .dataframe thead th {\n",
              "        text-align: right;\n",
              "    }\n",
              "</style>\n",
              "<table border=\"1\" class=\"dataframe\">\n",
              "  <thead>\n",
              "    <tr style=\"text-align: right;\">\n",
              "      <th></th>\n",
              "      <th>companyId</th>\n",
              "      <th>jobType</th>\n",
              "      <th>degree</th>\n",
              "      <th>major</th>\n",
              "      <th>industry</th>\n",
              "      <th>yearsExperience</th>\n",
              "      <th>milesFromMetropolis</th>\n",
              "      <th>salary</th>\n",
              "    </tr>\n",
              "    <tr>\n",
              "      <th>jobId</th>\n",
              "      <th></th>\n",
              "      <th></th>\n",
              "      <th></th>\n",
              "      <th></th>\n",
              "      <th></th>\n",
              "      <th></th>\n",
              "      <th></th>\n",
              "      <th></th>\n",
              "    </tr>\n",
              "  </thead>\n",
              "  <tbody>\n",
              "    <tr>\n",
              "      <th>JOB1362684407687</th>\n",
              "      <td>31</td>\n",
              "      <td>1</td>\n",
              "      <td>3</td>\n",
              "      <td>6</td>\n",
              "      <td>3</td>\n",
              "      <td>10</td>\n",
              "      <td>83</td>\n",
              "      <td>130</td>\n",
              "    </tr>\n",
              "    <tr>\n",
              "      <th>JOB1362684407688</th>\n",
              "      <td>11</td>\n",
              "      <td>0</td>\n",
              "      <td>2</td>\n",
              "      <td>7</td>\n",
              "      <td>6</td>\n",
              "      <td>3</td>\n",
              "      <td>73</td>\n",
              "      <td>101</td>\n",
              "    </tr>\n",
              "    <tr>\n",
              "      <th>JOB1362684407689</th>\n",
              "      <td>48</td>\n",
              "      <td>7</td>\n",
              "      <td>1</td>\n",
              "      <td>8</td>\n",
              "      <td>3</td>\n",
              "      <td>10</td>\n",
              "      <td>38</td>\n",
              "      <td>137</td>\n",
              "    </tr>\n",
              "    <tr>\n",
              "      <th>JOB1362684407690</th>\n",
              "      <td>32</td>\n",
              "      <td>5</td>\n",
              "      <td>1</td>\n",
              "      <td>2</td>\n",
              "      <td>0</td>\n",
              "      <td>8</td>\n",
              "      <td>17</td>\n",
              "      <td>142</td>\n",
              "    </tr>\n",
              "    <tr>\n",
              "      <th>JOB1362684407691</th>\n",
              "      <td>60</td>\n",
              "      <td>7</td>\n",
              "      <td>0</td>\n",
              "      <td>8</td>\n",
              "      <td>2</td>\n",
              "      <td>8</td>\n",
              "      <td>16</td>\n",
              "      <td>163</td>\n",
              "    </tr>\n",
              "  </tbody>\n",
              "</table>\n",
              "</div>"
            ],
            "text/plain": [
              "                  companyId  jobType  ...  milesFromMetropolis  salary\n",
              "jobId                                 ...                             \n",
              "JOB1362684407687         31        1  ...                   83     130\n",
              "JOB1362684407688         11        0  ...                   73     101\n",
              "JOB1362684407689         48        7  ...                   38     137\n",
              "JOB1362684407690         32        5  ...                   17     142\n",
              "JOB1362684407691         60        7  ...                   16     163\n",
              "\n",
              "[5 rows x 8 columns]"
            ]
          },
          "metadata": {
            "tags": []
          },
          "execution_count": 12
        }
      ]
    },
    {
      "cell_type": "code",
      "metadata": {
        "id": "ZF1_0r45pyyW",
        "outputId": "a895891a-53f6-4581-fb16-fdb66f8ed124"
      },
      "source": [
        "print(data.nunique()) # unique column values"
      ],
      "execution_count": null,
      "outputs": [
        {
          "output_type": "stream",
          "text": [
            "companyId               63\n",
            "jobType                  8\n",
            "degree                   5\n",
            "major                    9\n",
            "industry                 7\n",
            "yearsExperience         25\n",
            "milesFromMetropolis    100\n",
            "salary                 280\n",
            "dtype: int64\n"
          ],
          "name": "stdout"
        }
      ]
    },
    {
      "cell_type": "code",
      "metadata": {
        "id": "WwlcidQlpyyX",
        "outputId": "72f10cce-6854-410e-c013-557f7859db33"
      },
      "source": [
        "print(data_encoded.nunique()) # unique column values"
      ],
      "execution_count": null,
      "outputs": [
        {
          "output_type": "stream",
          "text": [
            "companyId               63\n",
            "jobType                  8\n",
            "degree                   5\n",
            "major                    9\n",
            "industry                 7\n",
            "yearsExperience         25\n",
            "milesFromMetropolis    100\n",
            "salary                 280\n",
            "dtype: int64\n"
          ],
          "name": "stdout"
        }
      ]
    },
    {
      "cell_type": "code",
      "metadata": {
        "id": "ySW6fR4jpyyX",
        "outputId": "d545fbee-8e7e-4179-9ad7-4963026c468e"
      },
      "source": [
        "data_encoded.corr() # Checking orrelation after label encoding"
      ],
      "execution_count": null,
      "outputs": [
        {
          "output_type": "execute_result",
          "data": {
            "text/html": [
              "<div>\n",
              "<style scoped>\n",
              "    .dataframe tbody tr th:only-of-type {\n",
              "        vertical-align: middle;\n",
              "    }\n",
              "\n",
              "    .dataframe tbody tr th {\n",
              "        vertical-align: top;\n",
              "    }\n",
              "\n",
              "    .dataframe thead th {\n",
              "        text-align: right;\n",
              "    }\n",
              "</style>\n",
              "<table border=\"1\" class=\"dataframe\">\n",
              "  <thead>\n",
              "    <tr style=\"text-align: right;\">\n",
              "      <th></th>\n",
              "      <th>companyId</th>\n",
              "      <th>jobType</th>\n",
              "      <th>degree</th>\n",
              "      <th>major</th>\n",
              "      <th>industry</th>\n",
              "      <th>yearsExperience</th>\n",
              "      <th>milesFromMetropolis</th>\n",
              "      <th>salary</th>\n",
              "    </tr>\n",
              "  </thead>\n",
              "  <tbody>\n",
              "    <tr>\n",
              "      <th>companyId</th>\n",
              "      <td>1.000000</td>\n",
              "      <td>-0.000284</td>\n",
              "      <td>-0.000057</td>\n",
              "      <td>0.000780</td>\n",
              "      <td>-0.001446</td>\n",
              "      <td>0.001185</td>\n",
              "      <td>-0.001020</td>\n",
              "      <td>-0.000993</td>\n",
              "    </tr>\n",
              "    <tr>\n",
              "      <th>jobType</th>\n",
              "      <td>-0.000284</td>\n",
              "      <td>1.000000</td>\n",
              "      <td>-0.020084</td>\n",
              "      <td>-0.020774</td>\n",
              "      <td>0.000069</td>\n",
              "      <td>-0.000186</td>\n",
              "      <td>-0.000365</td>\n",
              "      <td>-0.228673</td>\n",
              "    </tr>\n",
              "    <tr>\n",
              "      <th>degree</th>\n",
              "      <td>-0.000057</td>\n",
              "      <td>-0.020084</td>\n",
              "      <td>1.000000</td>\n",
              "      <td>0.370089</td>\n",
              "      <td>0.001551</td>\n",
              "      <td>-0.000144</td>\n",
              "      <td>-0.001359</td>\n",
              "      <td>-0.231789</td>\n",
              "    </tr>\n",
              "    <tr>\n",
              "      <th>major</th>\n",
              "      <td>0.000780</td>\n",
              "      <td>-0.020774</td>\n",
              "      <td>0.370089</td>\n",
              "      <td>1.000000</td>\n",
              "      <td>0.001075</td>\n",
              "      <td>0.000012</td>\n",
              "      <td>-0.001369</td>\n",
              "      <td>-0.262430</td>\n",
              "    </tr>\n",
              "    <tr>\n",
              "      <th>industry</th>\n",
              "      <td>-0.001446</td>\n",
              "      <td>0.000069</td>\n",
              "      <td>0.001551</td>\n",
              "      <td>0.001075</td>\n",
              "      <td>1.000000</td>\n",
              "      <td>0.000263</td>\n",
              "      <td>-0.000819</td>\n",
              "      <td>0.086502</td>\n",
              "    </tr>\n",
              "    <tr>\n",
              "      <th>yearsExperience</th>\n",
              "      <td>0.001185</td>\n",
              "      <td>-0.000186</td>\n",
              "      <td>-0.000144</td>\n",
              "      <td>0.000012</td>\n",
              "      <td>0.000263</td>\n",
              "      <td>1.000000</td>\n",
              "      <td>0.000673</td>\n",
              "      <td>0.375013</td>\n",
              "    </tr>\n",
              "    <tr>\n",
              "      <th>milesFromMetropolis</th>\n",
              "      <td>-0.001020</td>\n",
              "      <td>-0.000365</td>\n",
              "      <td>-0.001359</td>\n",
              "      <td>-0.001369</td>\n",
              "      <td>-0.000819</td>\n",
              "      <td>0.000673</td>\n",
              "      <td>1.000000</td>\n",
              "      <td>-0.297666</td>\n",
              "    </tr>\n",
              "    <tr>\n",
              "      <th>salary</th>\n",
              "      <td>-0.000993</td>\n",
              "      <td>-0.228673</td>\n",
              "      <td>-0.231789</td>\n",
              "      <td>-0.262430</td>\n",
              "      <td>0.086502</td>\n",
              "      <td>0.375013</td>\n",
              "      <td>-0.297666</td>\n",
              "      <td>1.000000</td>\n",
              "    </tr>\n",
              "  </tbody>\n",
              "</table>\n",
              "</div>"
            ],
            "text/plain": [
              "                     companyId   jobType    degree     major  industry  \\\n",
              "companyId             1.000000 -0.000284 -0.000057  0.000780 -0.001446   \n",
              "jobType              -0.000284  1.000000 -0.020084 -0.020774  0.000069   \n",
              "degree               -0.000057 -0.020084  1.000000  0.370089  0.001551   \n",
              "major                 0.000780 -0.020774  0.370089  1.000000  0.001075   \n",
              "industry             -0.001446  0.000069  0.001551  0.001075  1.000000   \n",
              "yearsExperience       0.001185 -0.000186 -0.000144  0.000012  0.000263   \n",
              "milesFromMetropolis  -0.001020 -0.000365 -0.001359 -0.001369 -0.000819   \n",
              "salary               -0.000993 -0.228673 -0.231789 -0.262430  0.086502   \n",
              "\n",
              "                     yearsExperience  milesFromMetropolis    salary  \n",
              "companyId                   0.001185            -0.001020 -0.000993  \n",
              "jobType                    -0.000186            -0.000365 -0.228673  \n",
              "degree                     -0.000144            -0.001359 -0.231789  \n",
              "major                       0.000012            -0.001369 -0.262430  \n",
              "industry                    0.000263            -0.000819  0.086502  \n",
              "yearsExperience             1.000000             0.000673  0.375013  \n",
              "milesFromMetropolis         0.000673             1.000000 -0.297666  \n",
              "salary                      0.375013            -0.297666  1.000000  "
            ]
          },
          "metadata": {
            "tags": []
          },
          "execution_count": 115
        }
      ]
    },
    {
      "cell_type": "code",
      "metadata": {
        "id": "n5cZQDqrpyyX"
      },
      "source": [
        "# Define a function to visualize correlation\n",
        "def crossCorrelation(data):\n",
        "    corr = data.corr()\n",
        "    plt.figure(figsize=(10,6))\n",
        "    sns.heatmap(corr, \n",
        "          xticklabels=corr.columns.values,\n",
        "          yticklabels=corr.columns.values,\n",
        "          annot = True)\n",
        "    #print(corr)"
      ],
      "execution_count": 13,
      "outputs": []
    },
    {
      "cell_type": "code",
      "metadata": {
        "id": "b9BtUplbpyyX",
        "colab": {
          "base_uri": "https://localhost:8080/",
          "height": 471
        },
        "outputId": "ea0eef0a-fa36-4c9a-bf62-7c6518bf0fb7"
      },
      "source": [
        "crossCorrelation(data_encoded)"
      ],
      "execution_count": 14,
      "outputs": [
        {
          "output_type": "display_data",
          "data": {
            "image/png": "[encoded data removed]",
            "text/plain": [
              "<Figure size 720x432 with 2 Axes>"
            ]
          },
          "metadata": {
            "tags": [],
            "needs_background": "light"
          }
        }
      ]
    },
    {
      "cell_type": "markdown",
      "metadata": {
        "id": "8AnjCTjwpyyY"
      },
      "source": [
        "There is a negative correlation between 'milesFromMetropolis' and the target variable. Such a negative correlation is visible with the feature variable 'major' as well. Target variable 'salary' has a positive correlation with 'yearsExperience'.\n",
        "\n",
        "Also there is a multicollinearity between the features 'degree' and 'major'."
      ]
    },
    {
      "cell_type": "markdown",
      "metadata": {
        "id": "fR_iwG3epyyY"
      },
      "source": [
        "### ---- 5 Establish a baseline ----"
      ]
    },
    {
      "cell_type": "markdown",
      "metadata": {
        "id": "Rn1b8YeupyyY"
      },
      "source": [
        "We will begin with simple linear regression as a baseline model."
      ]
    },
    {
      "cell_type": "code",
      "metadata": {
        "id": "WUeR7eCZpyyZ",
        "outputId": "11ac525f-2d17-4ad3-89b1-06a9e2926a1f"
      },
      "source": [
        "#Average salary with years of experience\n",
        "df = data_encoded[['yearsExperience','salary']].groupby(['yearsExperience']).mean()\n",
        "#df.head()\n",
        "df.plot()"
      ],
      "execution_count": null,
      "outputs": [
        {
          "output_type": "execute_result",
          "data": {
            "text/plain": [
              "<AxesSubplot:xlabel='yearsExperience'>"
            ]
          },
          "metadata": {
            "tags": []
          },
          "execution_count": 79
        },
        {
          "output_type": "display_data",
          "data": {
            "image/png": "[encoded data removed]",
            "text/plain": [
              "<Figure size 432x288 with 1 Axes>"
            ]
          },
          "metadata": {
            "tags": []
          }
        }
      ]
    },
    {
      "cell_type": "markdown",
      "metadata": {
        "id": "yzob6c9YpyyZ"
      },
      "source": [
        "Apparently there is a linear relation between the predictor and the target"
      ]
    },
    {
      "cell_type": "code",
      "metadata": {
        "id": "DuOxzQyDpyyZ",
        "outputId": "3af1c0df-dfc6-4b54-9ae8-e01318b6a410"
      },
      "source": [
        "df.head()"
      ],
      "execution_count": null,
      "outputs": [
        {
          "output_type": "execute_result",
          "data": {
            "text/html": [
              "<div>\n",
              "<style scoped>\n",
              "    .dataframe tbody tr th:only-of-type {\n",
              "        vertical-align: middle;\n",
              "    }\n",
              "\n",
              "    .dataframe tbody tr th {\n",
              "        vertical-align: top;\n",
              "    }\n",
              "\n",
              "    .dataframe thead th {\n",
              "        text-align: right;\n",
              "    }\n",
              "</style>\n",
              "<table border=\"1\" class=\"dataframe\">\n",
              "  <thead>\n",
              "    <tr style=\"text-align: right;\">\n",
              "      <th></th>\n",
              "      <th>salary</th>\n",
              "    </tr>\n",
              "    <tr>\n",
              "      <th>yearsExperience</th>\n",
              "      <th></th>\n",
              "    </tr>\n",
              "  </thead>\n",
              "  <tbody>\n",
              "    <tr>\n",
              "      <th>0</th>\n",
              "      <td>91.873541</td>\n",
              "    </tr>\n",
              "    <tr>\n",
              "      <th>1</th>\n",
              "      <td>93.960040</td>\n",
              "    </tr>\n",
              "    <tr>\n",
              "      <th>2</th>\n",
              "      <td>96.125184</td>\n",
              "    </tr>\n",
              "    <tr>\n",
              "      <th>3</th>\n",
              "      <td>98.090368</td>\n",
              "    </tr>\n",
              "    <tr>\n",
              "      <th>4</th>\n",
              "      <td>100.014112</td>\n",
              "    </tr>\n",
              "  </tbody>\n",
              "</table>\n",
              "</div>"
            ],
            "text/plain": [
              "                     salary\n",
              "yearsExperience            \n",
              "0                 91.873541\n",
              "1                 93.960040\n",
              "2                 96.125184\n",
              "3                 98.090368\n",
              "4                100.014112"
            ]
          },
          "metadata": {
            "tags": []
          },
          "execution_count": 80
        }
      ]
    },
    {
      "cell_type": "code",
      "metadata": {
        "id": "_5mAX8jupyyZ",
        "outputId": "df4b3a13-c584-4144-c50d-5c4aef172349"
      },
      "source": [
        "# Import Linear Regression Model\n",
        "from sklearn.linear_model import LinearRegression\n",
        "from sklearn.model_selection import train_test_split\n",
        "\n",
        "#df.reset_index(level=0, inplace=True) #To convert index into a column\n",
        "x = data.yearsExperience.values\n",
        "y = data.salary.values\n",
        "#To reshape the array. fit() fuction expects a 2d array object\n",
        "length = data.shape[0]\n",
        "x = x.reshape(length, 1)\n",
        "y = y.reshape(length, 1)\n",
        "x_tr, x_te, y_tr, y_te = train_test_split(x, y, test_size=0.20, random_state=14)\n",
        "\n",
        "lr = LinearRegression()\n",
        "lr.fit(x_tr,y_tr)"
      ],
      "execution_count": null,
      "outputs": [
        {
          "output_type": "execute_result",
          "data": {
            "text/plain": [
              "LinearRegression()"
            ]
          },
          "metadata": {
            "tags": []
          },
          "execution_count": 108
        }
      ]
    },
    {
      "cell_type": "code",
      "metadata": {
        "id": "VhGian6mpyya",
        "outputId": "79b156c6-09f2-44f6-a118-93d1bbde7082"
      },
      "source": [
        "#df.shape"
      ],
      "execution_count": null,
      "outputs": [
        {
          "output_type": "execute_result",
          "data": {
            "text/plain": [
              "(25, 2)"
            ]
          },
          "metadata": {
            "tags": []
          },
          "execution_count": 83
        }
      ]
    },
    {
      "cell_type": "code",
      "metadata": {
        "id": "8J2t_P6jpyya",
        "outputId": "19073af9-6a66-4015-f8ed-4b4a92dc9b24"
      },
      "source": [
        "print(lr.intercept_) #y intercept\n",
        "print(lr.coef_) #beta coefficients"
      ],
      "execution_count": null,
      "outputs": [
        {
          "output_type": "stream",
          "text": [
            "[91.9193465]\n",
            "[[2.01315181]]\n"
          ],
          "name": "stdout"
        }
      ]
    },
    {
      "cell_type": "code",
      "metadata": {
        "id": "-5QwZJ8Ypyyb"
      },
      "source": [
        "X = test_f['yearsExperience']\n",
        "#length = test_f.shape[0]\n",
        "X = X.values.reshape(len(X), 1)"
      ],
      "execution_count": null,
      "outputs": []
    },
    {
      "cell_type": "code",
      "metadata": {
        "id": "_vU4UEk5pyyb"
      },
      "source": [
        "pred = lr.predict(x_te)"
      ],
      "execution_count": null,
      "outputs": []
    },
    {
      "cell_type": "code",
      "metadata": {
        "id": "62hX2qnHpyyb",
        "outputId": "23ee3fbb-cca2-43f0-cc0c-b837d0b1d188"
      },
      "source": [
        "#Prediction plot\n",
        "plt.scatter(x_tr, y_tr, color = 'red')\n",
        "plt.plot(y_te, pred, color = 'blue')\n",
        "plt.title('prediction plot')\n",
        "plt.xlabel('years of experience')\n",
        "plt.ylabel('salary')\n",
        "plt.show()"
      ],
      "execution_count": null,
      "outputs": [
        {
          "output_type": "display_data",
          "data": {
            "image/png": "[encoded data removed]",
            "text/plain": [
              "<Figure size 432x288 with 1 Axes>"
            ]
          },
          "metadata": {
            "tags": []
          }
        }
      ]
    },
    {
      "cell_type": "code",
      "metadata": {
        "id": "_AEzf4tupyyc",
        "outputId": "56591cb8-365d-4325-d4cb-b1af3c898983"
      },
      "source": [
        "#Import metrics library\n",
        "from sklearn import metrics\n",
        "print(metrics.mean_squared_error(y_te, pred))"
      ],
      "execution_count": null,
      "outputs": [
        {
          "output_type": "stream",
          "text": [
            "1282.5527978966027\n"
          ],
          "name": "stdout"
        }
      ]
    },
    {
      "cell_type": "code",
      "metadata": {
        "id": "BxKmfJGHpyyc",
        "outputId": "beb6071e-c073-40b2-c8f8-823a0644965b"
      },
      "source": [
        "#x_tr.shape\n",
        "#y_tr.shape\n",
        "#x_te.shape\n",
        "#y_te.shape"
      ],
      "execution_count": null,
      "outputs": [
        {
          "output_type": "execute_result",
          "data": {
            "text/plain": [
              "(750000, 1)"
            ]
          },
          "metadata": {
            "tags": []
          },
          "execution_count": 122
        }
      ]
    },
    {
      "cell_type": "code",
      "metadata": {
        "id": "I0tBHK5Cpyyc",
        "outputId": "12bc1a48-3cb6-4297-9675-b150e2abe02a"
      },
      "source": [
        "# 5-fold cross validation\n",
        "#from sklearn.model_selection import KFold\n",
        "from sklearn.model_selection import cross_val_score\n",
        "model = LinearRegression()\n",
        "mse = cross_val_score(model, x, y, scoring='neg_mean_squared_error')\n",
        "print(mse)"
      ],
      "execution_count": null,
      "outputs": [
        {
          "output_type": "stream",
          "text": [
            "[-1290.40791491 -1288.17305792 -1294.70258327 -1286.86575461\n",
            " -1281.16974579]\n"
          ],
          "name": "stdout"
        }
      ]
    },
    {
      "cell_type": "markdown",
      "metadata": {
        "id": "fmvnZ4_vpyyd"
      },
      "source": [
        "Metrics which measure the distance between the model and the data returns the negated value of the metric. Number of folds is 5 by default. Cross validated scores did not make any improvement in the test error value. "
      ]
    },
    {
      "cell_type": "markdown",
      "metadata": {
        "id": "FblUVz2-pyyd"
      },
      "source": [
        "### ---- 6 Hypothesize solution ----"
      ]
    },
    {
      "cell_type": "markdown",
      "metadata": {
        "id": "flYpiS-xpyyd"
      },
      "source": [
        "Brainstorm 3 models that you think may improve results over the baseline model based on your EDA and explain why they're reasonable solutions here.\n",
        "\n",
        "Also write down any new features that you think you should try adding to the model based on your EDA, e.g. interaction variables, summary statistics for each group, etc"
      ]
    },
    {
      "cell_type": "code",
      "metadata": {
        "collapsed": true,
        "id": "jXYpeWpIpyye",
        "outputId": "6ac9704d-3299-41b2-ebe9-8c67675417ec"
      },
      "source": [
        "# Multiple Linear regression using statsmodels\n",
        "import statsmodels.api as sm\n",
        "\n",
        "# Define X Values\n",
        "X = sm.add_constant(data_encoded.drop(['salary'], axis=1))          \n",
        "\n",
        "# Define Y \n",
        "Y = data_encoded['salary']\n",
        "\n",
        "# Apply OLS to our X and Y\n",
        "lm = sm.OLS(Y, X).fit()\n",
        "\n",
        "# Print Summary of Outputs\n",
        "lm.summary()"
      ],
      "execution_count": null,
      "outputs": [
        {
          "output_type": "execute_result",
          "data": {
            "text/html": [
              "<table class=\"simpletable\">\n",
              "<caption>OLS Regression Results</caption>\n",
              "<tr>\n",
              "  <th>Dep. Variable:</th>         <td>salary</td>      <th>  R-squared:         </th>  <td>   0.383</td>  \n",
              "</tr>\n",
              "<tr>\n",
              "  <th>Model:</th>                   <td>OLS</td>       <th>  Adj. R-squared:    </th>  <td>   0.383</td>  \n",
              "</tr>\n",
              "<tr>\n",
              "  <th>Method:</th>             <td>Least Squares</td>  <th>  F-statistic:       </th>  <td>8.862e+04</td> \n",
              "</tr>\n",
              "<tr>\n",
              "  <th>Date:</th>             <td>Tue, 09 Mar 2021</td> <th>  Prob (F-statistic):</th>   <td>  0.00</td>   \n",
              "</tr>\n",
              "<tr>\n",
              "  <th>Time:</th>                 <td>19:34:40</td>     <th>  Log-Likelihood:    </th> <td>-4.8339e+06</td>\n",
              "</tr>\n",
              "<tr>\n",
              "  <th>No. Observations:</th>      <td>1000000</td>     <th>  AIC:               </th>  <td>9.668e+06</td> \n",
              "</tr>\n",
              "<tr>\n",
              "  <th>Df Residuals:</th>          <td>999992</td>      <th>  BIC:               </th>  <td>9.668e+06</td> \n",
              "</tr>\n",
              "<tr>\n",
              "  <th>Df Model:</th>              <td>     7</td>      <th>                     </th>      <td> </td>     \n",
              "</tr>\n",
              "<tr>\n",
              "  <th>Covariance Type:</th>      <td>nonrobust</td>    <th>                     </th>      <td> </td>     \n",
              "</tr>\n",
              "</table>\n",
              "<table class=\"simpletable\">\n",
              "<tr>\n",
              "           <td></td>              <th>coef</th>     <th>std err</th>      <th>t</th>      <th>P>|t|</th>  <th>[0.025</th>    <th>0.975]</th>  \n",
              "</tr>\n",
              "<tr>\n",
              "  <th>const</th>               <td>  148.3696</td> <td>    0.136</td> <td> 1090.249</td> <td> 0.000</td> <td>  148.103</td> <td>  148.636</td>\n",
              "</tr>\n",
              "<tr>\n",
              "  <th>companyId</th>           <td>   -0.0033</td> <td>    0.002</td> <td>   -1.948</td> <td> 0.051</td> <td>   -0.007</td> <td> 2.04e-05</td>\n",
              "</tr>\n",
              "<tr>\n",
              "  <th>jobType</th>             <td>   -3.9916</td> <td>    0.013</td> <td> -300.652</td> <td> 0.000</td> <td>   -4.018</td> <td>   -3.966</td>\n",
              "</tr>\n",
              "<tr>\n",
              "  <th>degree</th>              <td>   -4.3908</td> <td>    0.023</td> <td> -188.927</td> <td> 0.000</td> <td>   -4.436</td> <td>   -4.345</td>\n",
              "</tr>\n",
              "<tr>\n",
              "  <th>major</th>               <td>   -3.3686</td> <td>    0.014</td> <td> -246.782</td> <td> 0.000</td> <td>   -3.395</td> <td>   -3.342</td>\n",
              "</tr>\n",
              "<tr>\n",
              "  <th>industry</th>            <td>    1.6768</td> <td>    0.015</td> <td>  110.292</td> <td> 0.000</td> <td>    1.647</td> <td>    1.707</td>\n",
              "</tr>\n",
              "<tr>\n",
              "  <th>yearsExperience</th>     <td>    2.0138</td> <td>    0.004</td> <td>  477.507</td> <td> 0.000</td> <td>    2.006</td> <td>    2.022</td>\n",
              "</tr>\n",
              "<tr>\n",
              "  <th>milesFromMetropolis</th> <td>   -0.4001</td> <td>    0.001</td> <td> -379.887</td> <td> 0.000</td> <td>   -0.402</td> <td>   -0.398</td>\n",
              "</tr>\n",
              "</table>\n",
              "<table class=\"simpletable\">\n",
              "<tr>\n",
              "  <th>Omnibus:</th>       <td>11237.008</td> <th>  Durbin-Watson:     </th> <td>   2.001</td> \n",
              "</tr>\n",
              "<tr>\n",
              "  <th>Prob(Omnibus):</th>  <td> 0.000</td>   <th>  Jarque-Bera (JB):  </th> <td>10562.228</td>\n",
              "</tr>\n",
              "<tr>\n",
              "  <th>Skew:</th>           <td> 0.218</td>   <th>  Prob(JB):          </th> <td>    0.00</td> \n",
              "</tr>\n",
              "<tr>\n",
              "  <th>Kurtosis:</th>       <td> 2.747</td>   <th>  Cond. No.          </th> <td>    294.</td> \n",
              "</tr>\n",
              "</table><br/><br/>Notes:<br/>[1] Standard Errors assume that the covariance matrix of the errors is correctly specified."
            ],
            "text/plain": [
              "<class 'statsmodels.iolib.summary.Summary'>\n",
              "\"\"\"\n",
              "                            OLS Regression Results                            \n",
              "==============================================================================\n",
              "Dep. Variable:                 salary   R-squared:                       0.383\n",
              "Model:                            OLS   Adj. R-squared:                  0.383\n",
              "Method:                 Least Squares   F-statistic:                 8.862e+04\n",
              "Date:                Tue, 09 Mar 2021   Prob (F-statistic):               0.00\n",
              "Time:                        19:34:40   Log-Likelihood:            -4.8339e+06\n",
              "No. Observations:             1000000   AIC:                         9.668e+06\n",
              "Df Residuals:                  999992   BIC:                         9.668e+06\n",
              "Df Model:                           7                                         \n",
              "Covariance Type:            nonrobust                                         \n",
              "=======================================================================================\n",
              "                          coef    std err          t      P>|t|      [0.025      0.975]\n",
              "---------------------------------------------------------------------------------------\n",
              "const                 148.3696      0.136   1090.249      0.000     148.103     148.636\n",
              "companyId              -0.0033      0.002     -1.948      0.051      -0.007    2.04e-05\n",
              "jobType                -3.9916      0.013   -300.652      0.000      -4.018      -3.966\n",
              "degree                 -4.3908      0.023   -188.927      0.000      -4.436      -4.345\n",
              "major                  -3.3686      0.014   -246.782      0.000      -3.395      -3.342\n",
              "industry                1.6768      0.015    110.292      0.000       1.647       1.707\n",
              "yearsExperience         2.0138      0.004    477.507      0.000       2.006       2.022\n",
              "milesFromMetropolis    -0.4001      0.001   -379.887      0.000      -0.402      -0.398\n",
              "==============================================================================\n",
              "Omnibus:                    11237.008   Durbin-Watson:                   2.001\n",
              "Prob(Omnibus):                  0.000   Jarque-Bera (JB):            10562.228\n",
              "Skew:                           0.218   Prob(JB):                         0.00\n",
              "Kurtosis:                       2.747   Cond. No.                         294.\n",
              "==============================================================================\n",
              "\n",
              "Notes:\n",
              "[1] Standard Errors assume that the covariance matrix of the errors is correctly specified.\n",
              "\"\"\""
            ]
          },
          "metadata": {
            "tags": []
          },
          "execution_count": 28
        }
      ]
    },
    {
      "cell_type": "code",
      "metadata": {
        "collapsed": true,
        "id": "2IYHPBHHpyye",
        "outputId": "e3fc1115-b7e8-4618-85d7-07eb9f44bcda"
      },
      "source": [
        "# To check multicollinearity\n",
        "from statsmodels.stats.outliers_influence import variance_inflation_factor\n",
        "\n",
        "X_vif = data_encoded.drop(['salary'],axis=1).assign(const=1)\n",
        "pd.Series([variance_inflation_factor(X_vif.values, i) for i in range(X_vif.shape[1])],index=X_vif.columns)"
      ],
      "execution_count": null,
      "outputs": [
        {
          "output_type": "execute_result",
          "data": {
            "text/plain": [
              "companyId               1.000005\n",
              "jobType                 1.000610\n",
              "degree                  1.158913\n",
              "major                   1.158945\n",
              "industry                1.000006\n",
              "yearsExperience         1.000002\n",
              "milesFromMetropolis     1.000005\n",
              "const                  20.017779\n",
              "dtype: float64"
            ]
          },
          "metadata": {
            "tags": []
          },
          "execution_count": 29
        }
      ]
    },
    {
      "cell_type": "markdown",
      "metadata": {
        "id": "5VH1gU_apyyf"
      },
      "source": [
        "Clearly the features degree and major are slightly correlated while other features and not correlated"
      ]
    },
    {
      "cell_type": "code",
      "metadata": {
        "id": "321PYq00pyyh",
        "outputId": "d85b8579-04a7-4b04-da40-4a4fc96a7f4e"
      },
      "source": [
        "# Create residual plot of salary vs Residuals\n",
        "plot_lm_1 = plt.figure(1)\n",
        "plot_lm_1.set_figheight(5)\n",
        "plot_lm_1.set_figwidth(8)\n",
        "\n",
        "model_fitted_y = lm.fittedvalues\n",
        "\n",
        "plot_lm_1.axes[0] = sns.residplot(model_fitted_y, 'salary', data=data, \n",
        "                          scatter_kws={'alpha': 0.5})\n",
        "\n",
        "plot_lm_1.axes[0].set_title('Residuals vs Fitted')\n",
        "plot_lm_1.axes[0].set_xlabel('Fitted values')\n",
        "plot_lm_1.axes[0].set_ylabel('Residuals')"
      ],
      "execution_count": null,
      "outputs": [
        {
          "output_type": "stream",
          "text": [
            "/home/ancy/.local/lib/python3.6/site-packages/seaborn/_decorators.py:43: FutureWarning: Pass the following variables as keyword args: x, y. From version 0.12, the only valid positional argument will be `data`, and passing other arguments without an explicit keyword will result in an error or misinterpretation.\n",
            "  FutureWarning\n"
          ],
          "name": "stderr"
        },
        {
          "output_type": "execute_result",
          "data": {
            "text/plain": [
              "Text(0, 0.5, 'Residuals')"
            ]
          },
          "metadata": {
            "tags": []
          },
          "execution_count": 30
        },
        {
          "output_type": "display_data",
          "data": {
            "image/png": "[encoded data removed]",
            "text/plain": [
              "<Figure size 576x360 with 1 Axes>"
            ]
          },
          "metadata": {
            "tags": []
          }
        }
      ]
    },
    {
      "cell_type": "markdown",
      "metadata": {
        "id": "6jak-pOjpyyi"
      },
      "source": [
        "The errors exhibit constant variance."
      ]
    },
    {
      "cell_type": "code",
      "metadata": {
        "id": "Z-T2188_pyyi",
        "outputId": "43996643-f775-4095-a5d0-4d333410366f"
      },
      "source": [
        "#To detect linearity and the distribution of the residuals\n",
        "import seaborn as sns; sns.set()\n",
        "\n",
        "# Check for Linearity\n",
        "f = plt.figure(figsize=(14,5))\n",
        "ax = f.add_subplot(121)\n",
        "\n",
        "# use the function regplot to make a scatterplot\n",
        "sns.regplot(x=data_encoded.salary, y=model_fitted_y, line_kws={\"color\":\"r\",\"alpha\":0.7,\"lw\":2})\n",
        "plt.title('Check for Linearity')\n",
        "plt.xlabel('Actual value')\n",
        "plt.ylabel('Predicted value')\n",
        "\n",
        "# Check for Residual normality & mean\n",
        "ax = f.add_subplot(122)\n",
        "sns.distplot((data_encoded.salary - model_fitted_y),ax=ax,color='b')\n",
        "plt.axvline((data_encoded.salary - model_fitted_y).mean(),color='k',linestyle='--')\n",
        "plt.title('Check for Residual normality & mean')\n",
        "plt.xlabel('Residual eror')\n",
        "plt.ylabel('$p(x)$');"
      ],
      "execution_count": null,
      "outputs": [
        {
          "output_type": "stream",
          "text": [
            "/home/ancy/.local/lib/python3.6/site-packages/seaborn/distributions.py:2557: FutureWarning: `distplot` is a deprecated function and will be removed in a future version. Please adapt your code to use either `displot` (a figure-level function with similar flexibility) or `histplot` (an axes-level function for histograms).\n",
            "  warnings.warn(msg, FutureWarning)\n"
          ],
          "name": "stderr"
        },
        {
          "output_type": "display_data",
          "data": {
            "image/png": "[encoded data removed]",
            "text/plain": [
              "<Figure size 1008x360 with 2 Axes>"
            ]
          },
          "metadata": {
            "tags": []
          }
        }
      ]
    },
    {
      "cell_type": "markdown",
      "metadata": {
        "id": "_-P2-RKrpyyi"
      },
      "source": [
        "## Part 3 - DEVELOP"
      ]
    },
    {
      "cell_type": "markdown",
      "metadata": {
        "id": "a28nzkWNpyyj"
      },
      "source": [
        "You will cycle through creating features, tuning models, and training/validing models (steps 7-9) until you've reached your efficacy goal\n",
        "\n",
        "#### Your metric will be MSE and your goal is:\n",
        " - <360 for entry-level data science roles\n",
        " - <320 for senior data science roles"
      ]
    },
    {
      "cell_type": "code",
      "metadata": {
        "id": "lrYZf8CDpyyj"
      },
      "source": [
        "# Import Linear Regression Model\n",
        "from sklearn.linear_model import LinearRegression\n",
        "from sklearn.model_selection import train_test_split\n",
        "\n",
        "#df.reset_index(level=0, inplace=True) #To convert index into a column\n",
        "x = data_encoded.drop(['salary'],axis=1)\n",
        "y = data_encoded.salary.values\n",
        "\n",
        "x_tr, x_te, y_tr, y_te = train_test_split(x, y, test_size=0.20, random_state=14)\n",
        "#initialize the model\n",
        "lr = LinearRegression()\n",
        "\n",
        "#fit the model\n",
        "lr.fit(x_tr,y_tr)\n",
        "\n",
        "# Make predictions\n",
        "predictions = lr.predict(x_te)"
      ],
      "execution_count": null,
      "outputs": []
    },
    {
      "cell_type": "code",
      "metadata": {
        "colab": {
          "base_uri": "https://localhost:8080/"
        },
        "id": "SxCLI8unpyyj",
        "outputId": "45f84819-effc-43aa-cfba-98befb48d73e"
      },
      "source": [
        "#MSE\n",
        "from sklearn import metrics\n",
        "print(metrics.mean_squared_error(y_te, predictions))"
      ],
      "execution_count": null,
      "outputs": [
        {
          "output_type": "stream",
          "text": [
            "927.2449926302991\n"
          ],
          "name": "stdout"
        }
      ]
    },
    {
      "cell_type": "code",
      "metadata": {
        "id": "2CAky1FLpyyk",
        "outputId": "c1963e87-3c7e-4ad3-a454-95d3921bc2bf"
      },
      "source": [
        "# 5-fold cross validation\n",
        "from sklearn.model_selection import cross_val_score\n",
        "mse = cross_val_score(lr, x, y, scoring='neg_mean_squared_error')\n",
        "print(mse)"
      ],
      "execution_count": null,
      "outputs": [
        {
          "output_type": "stream",
          "text": [
            "[-927.140229   -925.90398522 -928.49891064 -925.71098177 -918.64432812]\n"
          ],
          "name": "stdout"
        }
      ]
    },
    {
      "cell_type": "markdown",
      "metadata": {
        "id": "ivDoG-xYpyyl"
      },
      "source": [
        "Multiple feature addition to the model has made quite an improvement in MSE."
      ]
    },
    {
      "cell_type": "code",
      "metadata": {
        "id": "9rdDMOQKpyyl"
      },
      "source": [
        "## Multiple nonlinear regression\n",
        "#Polynomial regression fit a model to nonlinear trends\n",
        "from sklearn.preprocessing import PolynomialFeatures\n",
        "polyfeat = PolynomialFeatures(degree=5)\n",
        "X_trainpoly = polyfeat.fit_transform(x_tr)\n",
        "X_testpoly = polyfeat.fit_transform(x_te)\n",
        "poly = LinearRegression().fit(X_trainpoly, y_tr)\n",
        "\n",
        "predp = poly.predict(X_testpoly)"
      ],
      "execution_count": null,
      "outputs": []
    },
    {
      "cell_type": "code",
      "metadata": {
        "id": "HXAmBtl3pyyl",
        "outputId": "12d7ca58-50e4-42c6-ec76-1e1cfa8a3817"
      },
      "source": [
        "print(metrics.mean_squared_error(y_te, predp))"
      ],
      "execution_count": null,
      "outputs": [
        {
          "output_type": "stream",
          "text": [
            "521.0350168440332\n"
          ],
          "name": "stdout"
        }
      ]
    },
    {
      "cell_type": "markdown",
      "metadata": {
        "id": "Vj7zOBsipyym"
      },
      "source": [
        "Capturing nonlinear trends in the data improved the mse score."
      ]
    },
    {
      "cell_type": "markdown",
      "metadata": {
        "id": "q6ie337Zpyym"
      },
      "source": [
        "### ---- 7 Engineer features  ----"
      ]
    },
    {
      "cell_type": "code",
      "metadata": {
        "id": "8cNW-26zpyyn"
      },
      "source": [
        "#make sure that data is ready for modeling\n",
        "#create any new features needed to potentially enhance model\n",
        "# We create a new categorical feature 'edu_level' based on the existing features 'degree' and 'major'.   \n",
        "def edu_level(df):\n",
        "    if df['degree'] == 'MASTERS' or df['degree'] == 'DOCTORAL':\n",
        "        return 'High'\n",
        "    elif df['degree'] == 'BACHELORS':\n",
        "        return 'Medium'\n",
        "    else:\n",
        "        return 'Low/Nil'"
      ],
      "execution_count": null,
      "outputs": []
    },
    {
      "cell_type": "code",
      "metadata": {
        "id": "IMWv7N1LwoUv"
      },
      "source": [
        "# feature edu_level for each person\n",
        "data['edu_level'] = data.apply(edu_level, axis=1)"
      ],
      "execution_count": null,
      "outputs": []
    },
    {
      "cell_type": "code",
      "metadata": {
        "colab": {
          "base_uri": "https://localhost:8080/",
          "height": 235
        },
        "id": "k8neY1Tvw0NI",
        "outputId": "790b4385-9736-4001-e053-845d9c9c3c3b"
      },
      "source": [
        "# Label encoding with new features\n",
        "data_encoded = data.copy(deep = True) #to create a copy for the dataframe\n",
        "le = preprocessing.LabelEncoder()\n",
        "data_encoded['companyId'] = le.fit_transform(data_encoded['companyId'])\n",
        "data_encoded['jobType'] = le.fit_transform(data_encoded.jobType.values)\n",
        "data_encoded['degree'] = le.fit_transform(data_encoded['degree'])\n",
        "data_encoded['major'] = le.fit_transform(data_encoded['major'])\n",
        "data_encoded['industry'] = le.fit_transform(data_encoded.industry.values)\n",
        "data_encoded['edu_level'] = le.fit_transform(data_encoded.edu_level.values)\n",
        "data_encoded.head()"
      ],
      "execution_count": null,
      "outputs": [
        {
          "output_type": "execute_result",
          "data": {
            "text/html": [
              "<div>\n",
              "<style scoped>\n",
              "    .dataframe tbody tr th:only-of-type {\n",
              "        vertical-align: middle;\n",
              "    }\n",
              "\n",
              "    .dataframe tbody tr th {\n",
              "        vertical-align: top;\n",
              "    }\n",
              "\n",
              "    .dataframe thead th {\n",
              "        text-align: right;\n",
              "    }\n",
              "</style>\n",
              "<table border=\"1\" class=\"dataframe\">\n",
              "  <thead>\n",
              "    <tr style=\"text-align: right;\">\n",
              "      <th></th>\n",
              "      <th>companyId</th>\n",
              "      <th>jobType</th>\n",
              "      <th>degree</th>\n",
              "      <th>major</th>\n",
              "      <th>industry</th>\n",
              "      <th>yearsExperience</th>\n",
              "      <th>milesFromMetropolis</th>\n",
              "      <th>salary</th>\n",
              "      <th>edu_level</th>\n",
              "    </tr>\n",
              "    <tr>\n",
              "      <th>jobId</th>\n",
              "      <th></th>\n",
              "      <th></th>\n",
              "      <th></th>\n",
              "      <th></th>\n",
              "      <th></th>\n",
              "      <th></th>\n",
              "      <th></th>\n",
              "      <th></th>\n",
              "      <th></th>\n",
              "    </tr>\n",
              "  </thead>\n",
              "  <tbody>\n",
              "    <tr>\n",
              "      <th>JOB1362684407687</th>\n",
              "      <td>31</td>\n",
              "      <td>1</td>\n",
              "      <td>3</td>\n",
              "      <td>6</td>\n",
              "      <td>3</td>\n",
              "      <td>10</td>\n",
              "      <td>83</td>\n",
              "      <td>130</td>\n",
              "      <td>0</td>\n",
              "    </tr>\n",
              "    <tr>\n",
              "      <th>JOB1362684407688</th>\n",
              "      <td>11</td>\n",
              "      <td>0</td>\n",
              "      <td>2</td>\n",
              "      <td>7</td>\n",
              "      <td>6</td>\n",
              "      <td>3</td>\n",
              "      <td>73</td>\n",
              "      <td>101</td>\n",
              "      <td>1</td>\n",
              "    </tr>\n",
              "    <tr>\n",
              "      <th>JOB1362684407689</th>\n",
              "      <td>48</td>\n",
              "      <td>7</td>\n",
              "      <td>1</td>\n",
              "      <td>8</td>\n",
              "      <td>3</td>\n",
              "      <td>10</td>\n",
              "      <td>38</td>\n",
              "      <td>137</td>\n",
              "      <td>0</td>\n",
              "    </tr>\n",
              "    <tr>\n",
              "      <th>JOB1362684407690</th>\n",
              "      <td>32</td>\n",
              "      <td>5</td>\n",
              "      <td>1</td>\n",
              "      <td>2</td>\n",
              "      <td>0</td>\n",
              "      <td>8</td>\n",
              "      <td>17</td>\n",
              "      <td>142</td>\n",
              "      <td>0</td>\n",
              "    </tr>\n",
              "    <tr>\n",
              "      <th>JOB1362684407691</th>\n",
              "      <td>60</td>\n",
              "      <td>7</td>\n",
              "      <td>0</td>\n",
              "      <td>8</td>\n",
              "      <td>2</td>\n",
              "      <td>8</td>\n",
              "      <td>16</td>\n",
              "      <td>163</td>\n",
              "      <td>2</td>\n",
              "    </tr>\n",
              "  </tbody>\n",
              "</table>\n",
              "</div>"
            ],
            "text/plain": [
              "                  companyId  jobType  ...  salary  edu_level\n",
              "jobId                                 ...                   \n",
              "JOB1362684407687         31        1  ...     130          0\n",
              "JOB1362684407688         11        0  ...     101          1\n",
              "JOB1362684407689         48        7  ...     137          0\n",
              "JOB1362684407690         32        5  ...     142          0\n",
              "JOB1362684407691         60        7  ...     163          2\n",
              "\n",
              "[5 rows x 9 columns]"
            ]
          },
          "metadata": {
            "tags": []
          },
          "execution_count": 14
        }
      ]
    },
    {
      "cell_type": "markdown",
      "metadata": {
        "id": "vYBa2ZAgpyyn"
      },
      "source": [
        "### ---- 8 Create models ----"
      ]
    },
    {
      "cell_type": "code",
      "metadata": {
        "id": "3PGJExOvpyyn"
      },
      "source": [
        "#create and tune the models that you brainstormed during part 2\n",
        "import xgboost as xgb\n",
        "from sklearn import metrics\n",
        "from sklearn.model_selection import train_test_split\n",
        "#df.reset_index(level=0, inplace=True) #To convert index into a column\n",
        "x = data_encoded.drop(['salary'],axis=1)\n",
        "y = data_encoded.salary.values\n",
        "\n",
        "x_tr, x_te, y_tr, y_te = train_test_split(x, y, test_size=0.20, random_state=14)"
      ],
      "execution_count": null,
      "outputs": []
    },
    {
      "cell_type": "markdown",
      "metadata": {
        "id": "22PAyUNipyyn"
      },
      "source": [
        "### ---- 9 Test models ----"
      ]
    },
    {
      "cell_type": "code",
      "metadata": {
        "colab": {
          "background_save": true,
          "base_uri": "https://localhost:8080/",
          "height": 231
        },
        "id": "MA0Cn9_wpyyn",
        "outputId": "b8cd0e65-f931-4d5f-f7d1-24ce5fc43b48"
      },
      "source": [
        "#do 5-fold cross validation on models and measure MSE\n",
        "from sklearn.model_selection import GridSearchCV\n",
        "model = xgb.XGBRegressor()\n",
        "# Define Parameters\n",
        "param_grid = {\"max_depth\": [5,50],\n",
        "              \"min_child_weight\" : [5,10],\n",
        "              \"n_estimators\": [440,470],\n",
        "              #'objective':'reg:squarederror',\n",
        "              \"learning_rate\": [0.09,0.1]}\n",
        "\n",
        "# Perform Grid Search CV\n",
        "gs_cv = GridSearchCV(model, param_grid=param_grid, cv = 5, verbose=10, n_jobs=-1 ).fit(x_tr, y_tr)"
      ],
      "execution_count": null,
      "outputs": [
        {
          "output_type": "stream",
          "text": [
            "Fitting 5 folds for each of 12 candidates, totalling 60 fits\n"
          ],
          "name": "stdout"
        },
        {
          "output_type": "stream",
          "text": [
            "[Parallel(n_jobs=-1)]: Using backend LokyBackend with 2 concurrent workers.\n",
            "[Parallel(n_jobs=-1)]: Done   1 tasks      | elapsed:  8.2min\n",
            "[Parallel(n_jobs=-1)]: Done   4 tasks      | elapsed: 16.2min\n",
            "[Parallel(n_jobs=-1)]: Done   9 tasks      | elapsed: 40.3min\n",
            "[Parallel(n_jobs=-1)]: Done  14 tasks      | elapsed: 57.5min\n",
            "[Parallel(n_jobs=-1)]: Done  21 tasks      | elapsed: 91.6min\n",
            "[Parallel(n_jobs=-1)]: Done  28 tasks      | elapsed: 119.3min\n",
            "[Parallel(n_jobs=-1)]: Done  37 tasks      | elapsed: 158.5min\n",
            "[Parallel(n_jobs=-1)]: Done  46 tasks      | elapsed: 199.7min\n",
            "[Parallel(n_jobs=-1)]: Done  57 tasks      | elapsed: 250.6min\n",
            "[Parallel(n_jobs=-1)]: Done  60 out of  60 | elapsed: 262.4min finished\n"
          ],
          "name": "stderr"
        },
        {
          "output_type": "stream",
          "text": [
            "[07:46:16] WARNING: /workspace/src/objective/regression_obj.cu:152: reg:linear is now deprecated in favor of reg:squarederror.\n"
          ],
          "name": "stdout"
        }
      ]
    },
    {
      "cell_type": "code",
      "metadata": {
        "colab": {
          "base_uri": "https://localhost:8080/"
        },
        "id": "Pp0uPrQbFNLn",
        "outputId": "cf18884a-45f1-4329-df71-00157665abc6"
      },
      "source": [
        "import xgboost as xgb\n",
        "model3 = xgb.XGBRegressor(max_depth=50,n_estimators=440,learning_rate=0.09)\n",
        "model3.fit(x_tr,y_tr)"
      ],
      "execution_count": null,
      "outputs": [
        {
          "output_type": "stream",
          "text": [
            "[08:13:38] WARNING: /workspace/src/objective/regression_obj.cu:152: reg:linear is now deprecated in favor of reg:squarederror.\n"
          ],
          "name": "stdout"
        },
        {
          "output_type": "execute_result",
          "data": {
            "text/plain": [
              "XGBRegressor(base_score=0.5, booster='gbtree', colsample_bylevel=1,\n",
              "             colsample_bynode=1, colsample_bytree=1, gamma=0,\n",
              "             importance_type='gain', learning_rate=0.09, max_delta_step=0,\n",
              "             max_depth=50, min_child_weight=1, missing=None, n_estimators=440,\n",
              "             n_jobs=1, nthread=None, objective='reg:linear', random_state=0,\n",
              "             reg_alpha=0, reg_lambda=1, scale_pos_weight=1, seed=None,\n",
              "             silent=None, subsample=1, verbosity=1)"
            ]
          },
          "metadata": {
            "tags": []
          },
          "execution_count": 19
        }
      ]
    },
    {
      "cell_type": "code",
      "metadata": {
        "colab": {
          "base_uri": "https://localhost:8080/"
        },
        "id": "ti5q9zpUX9Cz",
        "outputId": "9f9c92df-4e38-49d4-c707-ee80ac8ec0ed"
      },
      "source": [
        "from sklearn import metrics\n",
        "y_pred = model3.predict(x_te)\n",
        "print(metrics.mean_squared_error(y_te, y_pred))"
      ],
      "execution_count": null,
      "outputs": [
        {
          "output_type": "stream",
          "text": [
            "443.12000900931156\n"
          ],
          "name": "stdout"
        }
      ]
    },
    {
      "cell_type": "markdown",
      "metadata": {
        "id": "DsFPhd1vpyyo"
      },
      "source": [
        "### ---- 10 Select best model  ----"
      ]
    },
    {
      "cell_type": "code",
      "metadata": {
        "id": "yuE72rzApyyo"
      },
      "source": [
        "#select the model with the lowest error as your \"prodcuction\" model\n",
        "#select the model with the lowest error as your \"prodcuction\" model\n",
        "best_model = gs_cv.best_estimator_"
      ],
      "execution_count": null,
      "outputs": []
    },
    {
      "cell_type": "code",
      "metadata": {
        "colab": {
          "base_uri": "https://localhost:8080/"
        },
        "id": "hJRG7Ld9kOoW",
        "outputId": "73086f5a-f30e-4f3e-d848-1583a0f42d48"
      },
      "source": [
        "best_model = xgb.XGBRegressor(base_score=0.5, booster='gbtree', colsample_bylevel=1,\n",
        "             colsample_bynode=1, colsample_bytree=1, gamma=0,\n",
        "             importance_type='gain', learning_rate=0.09, max_delta_step=0,\n",
        "             max_depth=5, min_child_weight=5, missing=None, n_estimators=440,\n",
        "             n_jobs=1, nthread=None, objective='reg:squarederror', random_state=0,\n",
        "             reg_alpha=0, reg_lambda=1, scale_pos_weight=1, seed=None,\n",
        "             silent=None, subsample=1, verbosity=1)\n",
        "eval_set = [(x_tr, y_tr), (x_te, y_te)]\n",
        "best_model.fit(x_tr,y_tr,eval_set=eval_set, verbose=False, early_stopping_rounds=10)"
      ],
      "execution_count": null,
      "outputs": [
        {
          "output_type": "execute_result",
          "data": {
            "text/plain": [
              "XGBRegressor(base_score=0.5, booster='gbtree', colsample_bylevel=1,\n",
              "             colsample_bynode=1, colsample_bytree=1, gamma=0,\n",
              "             importance_type='gain', learning_rate=0.09, max_delta_step=0,\n",
              "             max_depth=5, min_child_weight=5, missing=None, n_estimators=440,\n",
              "             n_jobs=1, nthread=None, objective='reg:squarederror',\n",
              "             random_state=0, reg_alpha=0, reg_lambda=1, scale_pos_weight=1,\n",
              "             seed=None, silent=None, subsample=1, verbosity=1)"
            ]
          },
          "metadata": {
            "tags": []
          },
          "execution_count": 26
        }
      ]
    },
    {
      "cell_type": "code",
      "metadata": {
        "colab": {
          "base_uri": "https://localhost:8080/"
        },
        "id": "4yhVQ-olcnBl",
        "outputId": "8b44b983-c4d6-4a1a-a375-8ed832ecc6fb"
      },
      "source": [
        "from sklearn import metrics\n",
        "y_pred = best_model.predict(x_te)\n",
        "print(metrics.mean_squared_error(y_te, y_pred))"
      ],
      "execution_count": null,
      "outputs": [
        {
          "output_type": "stream",
          "text": [
            "355.3818583377987\n"
          ],
          "name": "stdout"
        }
      ]
    },
    {
      "cell_type": "code",
      "metadata": {
        "colab": {
          "base_uri": "https://localhost:8080/",
          "height": 298
        },
        "id": "YbgNiHuCiiU0",
        "outputId": "1287fef3-5e5c-4059-d5b1-a8cbd1a10914"
      },
      "source": [
        "# Retrieve performance metrics\n",
        "predictions = [round(value) for value in y_pred]\n",
        "results = best_model.evals_result()\n",
        "epochs = len(results['validation_0']['rmse'])\n",
        "x_axis = range(0, epochs)\n",
        "\n",
        "# Plot log loss curve\n",
        "fig, ax = plt.subplots()\n",
        "ax.plot(x_axis, results['validation_0']['rmse'], label='Train')\n",
        "ax.plot(x_axis, results['validation_1']['rmse'], label='Test')\n",
        "ax.legend()\n",
        "plt.ylabel('RMSE')\n",
        "plt.title('XGBoost RMSE')"
      ],
      "execution_count": null,
      "outputs": [
        {
          "output_type": "execute_result",
          "data": {
            "text/plain": [
              "Text(0.5, 1.0, 'XGBoost RMSE')"
            ]
          },
          "metadata": {
            "tags": []
          },
          "execution_count": 29
        },
        {
          "output_type": "display_data",
          "data": {
            "image/png": "[encoded data removed]",
            "text/plain": [
              "<Figure size 432x288 with 1 Axes>"
            ]
          },
          "metadata": {
            "tags": [],
            "needs_background": "light"
          }
        }
      ]
    },
    {
      "cell_type": "markdown",
      "metadata": {
        "id": "1vxtY6v9pyyo"
      },
      "source": [
        "## Part 4 - DEPLOY"
      ]
    },
    {
      "cell_type": "markdown",
      "metadata": {
        "id": "xybVv8cYpyyo"
      },
      "source": [
        "### ---- 11 Automate pipeline ----"
      ]
    },
    {
      "cell_type": "markdown",
      "metadata": {
        "id": "sgCFwu49lQIp"
      },
      "source": [
        "write script that trains model on entire training set, saves model to disk,and scores the \"test\" dataset"
      ]
    },
    {
      "cell_type": "code",
      "metadata": {
        "colab": {
          "base_uri": "https://localhost:8080/"
        },
        "id": "m0Nb0V53lZDw",
        "outputId": "e5fa8d39-59fa-4fe4-82ae-9a3b0dc1e5a9"
      },
      "source": [
        "# Train the model on the entire training data\n",
        "best_model.fit(x,y)"
      ],
      "execution_count": null,
      "outputs": [
        {
          "output_type": "execute_result",
          "data": {
            "text/plain": [
              "XGBRegressor(base_score=0.5, booster='gbtree', colsample_bylevel=1,\n",
              "             colsample_bynode=1, colsample_bytree=1, gamma=0,\n",
              "             importance_type='gain', learning_rate=0.09, max_delta_step=0,\n",
              "             max_depth=5, min_child_weight=5, missing=None, n_estimators=440,\n",
              "             n_jobs=1, nthread=None, objective='reg:squarederror',\n",
              "             random_state=0, reg_alpha=0, reg_lambda=1, scale_pos_weight=1,\n",
              "             seed=None, silent=None, subsample=1, verbosity=1)"
            ]
          },
          "metadata": {
            "tags": []
          },
          "execution_count": 32
        }
      ]
    },
    {
      "cell_type": "code",
      "metadata": {
        "colab": {
          "resources": {
            "http://localhost:8080/nbextensions/google.colab/files.js": {
              "data": "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",
              "ok": true,
              "headers": [
                [
                  "content-type",
                  "application/javascript"
                ]
              ],
              "status": 200,
              "status_text": ""
            }
          },
          "base_uri": "https://localhost:8080/",
          "height": 72
        },
        "id": "3E2Qwym0na8n",
        "outputId": "570a14a9-d5de-4fd4-9401-d2b5a7886b1d"
      },
      "source": [
        "from google.colab import files\n",
        "uploaded = files.upload()"
      ],
      "execution_count": null,
      "outputs": [
        {
          "output_type": "display_data",
          "data": {
            "text/html": [
              "\n",
              "     <input type=\"file\" id=\"files-1a081a99-77eb-4e20-90d9-9593f28f1c59\" name=\"files[]\" multiple disabled\n",
              "        style=\"border:none\" />\n",
              "     <output id=\"result-1a081a99-77eb-4e20-90d9-9593f28f1c59\">\n",
              "      Upload widget is only available when the cell has been executed in the\n",
              "      current browser session. Please rerun this cell to enable.\n",
              "      </output>\n",
              "      <script src=\"/nbextensions/google.colab/files.js\"></script> "
            ],
            "text/plain": [
              "<IPython.core.display.HTML object>"
            ]
          },
          "metadata": {
            "tags": []
          }
        },
        {
          "output_type": "stream",
          "text": [
            "Saving test_features.csv to test_features.csv\n"
          ],
          "name": "stdout"
        }
      ]
    },
    {
      "cell_type": "code",
      "metadata": {
        "colab": {
          "base_uri": "https://localhost:8080/",
          "height": 204
        },
        "id": "6-s3migNnqFk",
        "outputId": "f76e6d59-dd69-4e6d-927b-4b44575cc42d"
      },
      "source": [
        "test = pd.read_csv(\"test_features.csv\")\n",
        "test.head()"
      ],
      "execution_count": null,
      "outputs": [
        {
          "output_type": "execute_result",
          "data": {
            "text/html": [
              "<div>\n",
              "<style scoped>\n",
              "    .dataframe tbody tr th:only-of-type {\n",
              "        vertical-align: middle;\n",
              "    }\n",
              "\n",
              "    .dataframe tbody tr th {\n",
              "        vertical-align: top;\n",
              "    }\n",
              "\n",
              "    .dataframe thead th {\n",
              "        text-align: right;\n",
              "    }\n",
              "</style>\n",
              "<table border=\"1\" class=\"dataframe\">\n",
              "  <thead>\n",
              "    <tr style=\"text-align: right;\">\n",
              "      <th></th>\n",
              "      <th>jobId</th>\n",
              "      <th>companyId</th>\n",
              "      <th>jobType</th>\n",
              "      <th>degree</th>\n",
              "      <th>major</th>\n",
              "      <th>industry</th>\n",
              "      <th>yearsExperience</th>\n",
              "      <th>milesFromMetropolis</th>\n",
              "    </tr>\n",
              "  </thead>\n",
              "  <tbody>\n",
              "    <tr>\n",
              "      <th>0</th>\n",
              "      <td>JOB1362685407687</td>\n",
              "      <td>COMP33</td>\n",
              "      <td>MANAGER</td>\n",
              "      <td>HIGH_SCHOOL</td>\n",
              "      <td>NONE</td>\n",
              "      <td>HEALTH</td>\n",
              "      <td>22</td>\n",
              "      <td>73</td>\n",
              "    </tr>\n",
              "    <tr>\n",
              "      <th>1</th>\n",
              "      <td>JOB1362685407688</td>\n",
              "      <td>COMP13</td>\n",
              "      <td>JUNIOR</td>\n",
              "      <td>NONE</td>\n",
              "      <td>NONE</td>\n",
              "      <td>AUTO</td>\n",
              "      <td>20</td>\n",
              "      <td>47</td>\n",
              "    </tr>\n",
              "    <tr>\n",
              "      <th>2</th>\n",
              "      <td>JOB1362685407689</td>\n",
              "      <td>COMP10</td>\n",
              "      <td>CTO</td>\n",
              "      <td>MASTERS</td>\n",
              "      <td>BIOLOGY</td>\n",
              "      <td>HEALTH</td>\n",
              "      <td>17</td>\n",
              "      <td>9</td>\n",
              "    </tr>\n",
              "    <tr>\n",
              "      <th>3</th>\n",
              "      <td>JOB1362685407690</td>\n",
              "      <td>COMP21</td>\n",
              "      <td>MANAGER</td>\n",
              "      <td>HIGH_SCHOOL</td>\n",
              "      <td>NONE</td>\n",
              "      <td>OIL</td>\n",
              "      <td>14</td>\n",
              "      <td>96</td>\n",
              "    </tr>\n",
              "    <tr>\n",
              "      <th>4</th>\n",
              "      <td>JOB1362685407691</td>\n",
              "      <td>COMP36</td>\n",
              "      <td>JUNIOR</td>\n",
              "      <td>DOCTORAL</td>\n",
              "      <td>BIOLOGY</td>\n",
              "      <td>OIL</td>\n",
              "      <td>10</td>\n",
              "      <td>44</td>\n",
              "    </tr>\n",
              "  </tbody>\n",
              "</table>\n",
              "</div>"
            ],
            "text/plain": [
              "              jobId companyId  ... yearsExperience milesFromMetropolis\n",
              "0  JOB1362685407687    COMP33  ...              22                  73\n",
              "1  JOB1362685407688    COMP13  ...              20                  47\n",
              "2  JOB1362685407689    COMP10  ...              17                   9\n",
              "3  JOB1362685407690    COMP21  ...              14                  96\n",
              "4  JOB1362685407691    COMP36  ...              10                  44\n",
              "\n",
              "[5 rows x 8 columns]"
            ]
          },
          "metadata": {
            "tags": []
          },
          "execution_count": 44
        }
      ]
    },
    {
      "cell_type": "code",
      "metadata": {
        "colab": {
          "base_uri": "https://localhost:8080/",
          "height": 235
        },
        "id": "8rjj6KVzwmE0",
        "outputId": "43ab958d-84c8-4035-d5db-97b57e733ad3"
      },
      "source": [
        "test = test.set_index(\"jobId\")\n",
        "test.head()"
      ],
      "execution_count": null,
      "outputs": [
        {
          "output_type": "execute_result",
          "data": {
            "text/html": [
              "<div>\n",
              "<style scoped>\n",
              "    .dataframe tbody tr th:only-of-type {\n",
              "        vertical-align: middle;\n",
              "    }\n",
              "\n",
              "    .dataframe tbody tr th {\n",
              "        vertical-align: top;\n",
              "    }\n",
              "\n",
              "    .dataframe thead th {\n",
              "        text-align: right;\n",
              "    }\n",
              "</style>\n",
              "<table border=\"1\" class=\"dataframe\">\n",
              "  <thead>\n",
              "    <tr style=\"text-align: right;\">\n",
              "      <th></th>\n",
              "      <th>companyId</th>\n",
              "      <th>jobType</th>\n",
              "      <th>degree</th>\n",
              "      <th>major</th>\n",
              "      <th>industry</th>\n",
              "      <th>yearsExperience</th>\n",
              "      <th>milesFromMetropolis</th>\n",
              "    </tr>\n",
              "    <tr>\n",
              "      <th>jobId</th>\n",
              "      <th></th>\n",
              "      <th></th>\n",
              "      <th></th>\n",
              "      <th></th>\n",
              "      <th></th>\n",
              "      <th></th>\n",
              "      <th></th>\n",
              "    </tr>\n",
              "  </thead>\n",
              "  <tbody>\n",
              "    <tr>\n",
              "      <th>JOB1362685407687</th>\n",
              "      <td>COMP33</td>\n",
              "      <td>MANAGER</td>\n",
              "      <td>HIGH_SCHOOL</td>\n",
              "      <td>NONE</td>\n",
              "      <td>HEALTH</td>\n",
              "      <td>22</td>\n",
              "      <td>73</td>\n",
              "    </tr>\n",
              "    <tr>\n",
              "      <th>JOB1362685407688</th>\n",
              "      <td>COMP13</td>\n",
              "      <td>JUNIOR</td>\n",
              "      <td>NONE</td>\n",
              "      <td>NONE</td>\n",
              "      <td>AUTO</td>\n",
              "      <td>20</td>\n",
              "      <td>47</td>\n",
              "    </tr>\n",
              "    <tr>\n",
              "      <th>JOB1362685407689</th>\n",
              "      <td>COMP10</td>\n",
              "      <td>CTO</td>\n",
              "      <td>MASTERS</td>\n",
              "      <td>BIOLOGY</td>\n",
              "      <td>HEALTH</td>\n",
              "      <td>17</td>\n",
              "      <td>9</td>\n",
              "    </tr>\n",
              "    <tr>\n",
              "      <th>JOB1362685407690</th>\n",
              "      <td>COMP21</td>\n",
              "      <td>MANAGER</td>\n",
              "      <td>HIGH_SCHOOL</td>\n",
              "      <td>NONE</td>\n",
              "      <td>OIL</td>\n",
              "      <td>14</td>\n",
              "      <td>96</td>\n",
              "    </tr>\n",
              "    <tr>\n",
              "      <th>JOB1362685407691</th>\n",
              "      <td>COMP36</td>\n",
              "      <td>JUNIOR</td>\n",
              "      <td>DOCTORAL</td>\n",
              "      <td>BIOLOGY</td>\n",
              "      <td>OIL</td>\n",
              "      <td>10</td>\n",
              "      <td>44</td>\n",
              "    </tr>\n",
              "  </tbody>\n",
              "</table>\n",
              "</div>"
            ],
            "text/plain": [
              "                 companyId  jobType  ... yearsExperience milesFromMetropolis\n",
              "jobId                                ...                                    \n",
              "JOB1362685407687    COMP33  MANAGER  ...              22                  73\n",
              "JOB1362685407688    COMP13   JUNIOR  ...              20                  47\n",
              "JOB1362685407689    COMP10      CTO  ...              17                   9\n",
              "JOB1362685407690    COMP21  MANAGER  ...              14                  96\n",
              "JOB1362685407691    COMP36   JUNIOR  ...              10                  44\n",
              "\n",
              "[5 rows x 7 columns]"
            ]
          },
          "metadata": {
            "tags": []
          },
          "execution_count": 45
        }
      ]
    },
    {
      "cell_type": "code",
      "metadata": {
        "colab": {
          "base_uri": "https://localhost:8080/"
        },
        "id": "QWXJq1SeuSCS",
        "outputId": "efd14ba8-721b-4142-b7d4-8436f259a90e"
      },
      "source": [
        "test['edu_level'] = test.apply(edu_level, axis=1)\n",
        "\n",
        "test.edu_level.value_counts()"
      ],
      "execution_count": null,
      "outputs": [
        {
          "output_type": "execute_result",
          "data": {
            "text/plain": [
              "Low/Nil    475722\n",
              "High       350341\n",
              "Medium     173937\n",
              "Name: edu_level, dtype: int64"
            ]
          },
          "metadata": {
            "tags": []
          },
          "execution_count": 46
        }
      ]
    },
    {
      "cell_type": "code",
      "metadata": {
        "colab": {
          "base_uri": "https://localhost:8080/",
          "height": 235
        },
        "id": "z9BOtHBcu4lR",
        "outputId": "0709ebd6-9d2f-46db-c48e-d169cfda09fe"
      },
      "source": [
        "# Label encoding with new features\n",
        "test_encoded = test.copy(deep = True) #to create a copy for the dataframe\n",
        "le = preprocessing.LabelEncoder()\n",
        "test_encoded['companyId'] = le.fit_transform(test_encoded['companyId'])\n",
        "test_encoded['jobType'] = le.fit_transform(test_encoded.jobType.values)\n",
        "test_encoded['degree'] = le.fit_transform(test_encoded['degree'])\n",
        "test_encoded['major'] = le.fit_transform(test_encoded['major'])\n",
        "test_encoded['industry'] = le.fit_transform(test_encoded.industry.values)\n",
        "test_encoded['edu_level'] = le.fit_transform(test_encoded.edu_level.values)\n",
        "test_encoded.head()"
      ],
      "execution_count": null,
      "outputs": [
        {
          "output_type": "execute_result",
          "data": {
            "text/html": [
              "<div>\n",
              "<style scoped>\n",
              "    .dataframe tbody tr th:only-of-type {\n",
              "        vertical-align: middle;\n",
              "    }\n",
              "\n",
              "    .dataframe tbody tr th {\n",
              "        vertical-align: top;\n",
              "    }\n",
              "\n",
              "    .dataframe thead th {\n",
              "        text-align: right;\n",
              "    }\n",
              "</style>\n",
              "<table border=\"1\" class=\"dataframe\">\n",
              "  <thead>\n",
              "    <tr style=\"text-align: right;\">\n",
              "      <th></th>\n",
              "      <th>companyId</th>\n",
              "      <th>jobType</th>\n",
              "      <th>degree</th>\n",
              "      <th>major</th>\n",
              "      <th>industry</th>\n",
              "      <th>yearsExperience</th>\n",
              "      <th>milesFromMetropolis</th>\n",
              "      <th>edu_level</th>\n",
              "    </tr>\n",
              "    <tr>\n",
              "      <th>jobId</th>\n",
              "      <th></th>\n",
              "      <th></th>\n",
              "      <th></th>\n",
              "      <th></th>\n",
              "      <th></th>\n",
              "      <th></th>\n",
              "      <th></th>\n",
              "      <th></th>\n",
              "    </tr>\n",
              "  </thead>\n",
              "  <tbody>\n",
              "    <tr>\n",
              "      <th>JOB1362685407687</th>\n",
              "      <td>27</td>\n",
              "      <td>5</td>\n",
              "      <td>2</td>\n",
              "      <td>7</td>\n",
              "      <td>3</td>\n",
              "      <td>22</td>\n",
              "      <td>73</td>\n",
              "      <td>1</td>\n",
              "    </tr>\n",
              "    <tr>\n",
              "      <th>JOB1362685407688</th>\n",
              "      <td>5</td>\n",
              "      <td>4</td>\n",
              "      <td>4</td>\n",
              "      <td>7</td>\n",
              "      <td>0</td>\n",
              "      <td>20</td>\n",
              "      <td>47</td>\n",
              "      <td>1</td>\n",
              "    </tr>\n",
              "    <tr>\n",
              "      <th>JOB1362685407689</th>\n",
              "      <td>2</td>\n",
              "      <td>2</td>\n",
              "      <td>3</td>\n",
              "      <td>0</td>\n",
              "      <td>3</td>\n",
              "      <td>17</td>\n",
              "      <td>9</td>\n",
              "      <td>0</td>\n",
              "    </tr>\n",
              "    <tr>\n",
              "      <th>JOB1362685407690</th>\n",
              "      <td>14</td>\n",
              "      <td>5</td>\n",
              "      <td>2</td>\n",
              "      <td>7</td>\n",
              "      <td>4</td>\n",
              "      <td>14</td>\n",
              "      <td>96</td>\n",
              "      <td>1</td>\n",
              "    </tr>\n",
              "    <tr>\n",
              "      <th>JOB1362685407691</th>\n",
              "      <td>30</td>\n",
              "      <td>4</td>\n",
              "      <td>1</td>\n",
              "      <td>0</td>\n",
              "      <td>4</td>\n",
              "      <td>10</td>\n",
              "      <td>44</td>\n",
              "      <td>0</td>\n",
              "    </tr>\n",
              "  </tbody>\n",
              "</table>\n",
              "</div>"
            ],
            "text/plain": [
              "                  companyId  jobType  ...  milesFromMetropolis  edu_level\n",
              "jobId                                 ...                                \n",
              "JOB1362685407687         27        5  ...                   73          1\n",
              "JOB1362685407688          5        4  ...                   47          1\n",
              "JOB1362685407689          2        2  ...                    9          0\n",
              "JOB1362685407690         14        5  ...                   96          1\n",
              "JOB1362685407691         30        4  ...                   44          0\n",
              "\n",
              "[5 rows x 8 columns]"
            ]
          },
          "metadata": {
            "tags": []
          },
          "execution_count": 47
        }
      ]
    },
    {
      "cell_type": "code",
      "metadata": {
        "id": "4AXqBgzgnd-p"
      },
      "source": [
        "# save the model to disk\n",
        "import pickle\n",
        "filename = 'finalized_model.sav'\n",
        "pickle.dump(best_model, open(filename, 'wb'))"
      ],
      "execution_count": null,
      "outputs": []
    },
    {
      "cell_type": "code",
      "metadata": {
        "id": "S-H6wTt1tnVm"
      },
      "source": [
        "# load the model from disk\n",
        "loaded_model = pickle.load(open(filename, 'rb'))\n",
        "pred = loaded_model.predict(test_encoded) # prediction on unseen data"
      ],
      "execution_count": null,
      "outputs": []
    },
    {
      "cell_type": "code",
      "metadata": {
        "id": "IRhzZYIp0Ja7"
      },
      "source": [
        "test['predictions'] = pred # Adding prediction column on the panda dataframe"
      ],
      "execution_count": null,
      "outputs": []
    },
    {
      "cell_type": "code",
      "metadata": {
        "id": "xFAuqo-e25eT"
      },
      "source": [
        "test_salaries = test['predictions'] # new dataframe excluding the other columns on the test data\n",
        "#test_salaries.to_csv('test_salaries.csv')\n"
      ],
      "execution_count": null,
      "outputs": []
    },
    {
      "cell_type": "code",
      "metadata": {
        "colab": {
          "base_uri": "https://localhost:8080/",
          "height": 17
        },
        "id": "gdm5JeOmpyyp",
        "outputId": "f966b274-e936-46bb-8eed-0e94d7b9e986"
      },
      "source": [
        "from google.colab import files\n",
        "files.download('test_salaries.csv')"
      ],
      "execution_count": null,
      "outputs": [
        {
          "output_type": "display_data",
          "data": {
            "application/javascript": [
              "\n",
              "    async function download(id, filename, size) {\n",
              "      if (!google.colab.kernel.accessAllowed) {\n",
              "        return;\n",
              "      }\n",
              "      const div = document.createElement('div');\n",
              "      const label = document.createElement('label');\n",
              "      label.textContent = `Downloading \"${filename}\": `;\n",
              "      div.appendChild(label);\n",
              "      const progress = document.createElement('progress');\n",
              "      progress.max = size;\n",
              "      div.appendChild(progress);\n",
              "      document.body.appendChild(div);\n",
              "\n",
              "      const buffers = [];\n",
              "      let downloaded = 0;\n",
              "\n",
              "      const channel = await google.colab.kernel.comms.open(id);\n",
              "      // Send a message to notify the kernel that we're ready.\n",
              "      channel.send({})\n",
              "\n",
              "      for await (const message of channel.messages) {\n",
              "        // Send a message to notify the kernel that we're ready.\n",
              "        channel.send({})\n",
              "        if (message.buffers) {\n",
              "          for (const buffer of message.buffers) {\n",
              "            buffers.push(buffer);\n",
              "            downloaded += buffer.byteLength;\n",
              "            progress.value = downloaded;\n",
              "          }\n",
              "        }\n",
              "      }\n",
              "      const blob = new Blob(buffers, {type: 'application/binary'});\n",
              "      const a = document.createElement('a');\n",
              "      a.href = window.URL.createObjectURL(blob);\n",
              "      a.download = filename;\n",
              "      div.appendChild(a);\n",
              "      a.click();\n",
              "      div.remove();\n",
              "    }\n",
              "  "
            ],
            "text/plain": [
              "<IPython.core.display.Javascript object>"
            ]
          },
          "metadata": {
            "tags": []
          }
        },
        {
          "output_type": "display_data",
          "data": {
            "application/javascript": [
              "download(\"download_e6098e1d-9d23-49e9-8d5f-da83826f3aa5\", \"test_salaries.csv\", 26745305)"
            ],
            "text/plain": [
              "<IPython.core.display.Javascript object>"
            ]
          },
          "metadata": {
            "tags": []
          }
        }
      ]
    },
    {
      "cell_type": "code",
      "metadata": {
        "colab": {
          "base_uri": "https://localhost:8080/",
          "height": 282
        },
        "id": "oP8KCxk8kx-k",
        "outputId": "94ec400c-10fb-49cc-911e-6ce0883f129e"
      },
      "source": [
        "#predicted salaries \n",
        "test_salaries.hist()"
      ],
      "execution_count": null,
      "outputs": [
        {
          "output_type": "execute_result",
          "data": {
            "text/plain": [
              "<matplotlib.axes._subplots.AxesSubplot at 0x7f1430639450>"
            ]
          },
          "metadata": {
            "tags": []
          },
          "execution_count": 63
        },
        {
          "output_type": "display_data",
          "data": {
            "image/png": "[encoded data removed]",
            "text/plain": [
              "<Figure size 432x288 with 1 Axes>"
            ]
          },
          "metadata": {
            "tags": [],
            "needs_background": "light"
          }
        }
      ]
    },
    {
      "cell_type": "code",
      "metadata": {
        "colab": {
          "base_uri": "https://localhost:8080/"
        },
        "id": "9NtPQwCd-B90",
        "outputId": "fd0df812-0524-47d3-ca16-604337749881"
      },
      "source": [
        "# summary of the prediction column\n",
        "test_salaries.describe()"
      ],
      "execution_count": null,
      "outputs": [
        {
          "output_type": "execute_result",
          "data": {
            "text/plain": [
              "count    1000000.000000\n",
              "mean         116.059937\n",
              "std           33.777901\n",
              "min           20.202682\n",
              "25%           92.825012\n",
              "50%          116.512398\n",
              "75%          139.360821\n",
              "max          247.161896\n",
              "Name: predictions, dtype: float64"
            ]
          },
          "metadata": {
            "tags": []
          },
          "execution_count": 64
        }
      ]
    },
    {
      "cell_type": "code",
      "metadata": {
        "colab": {
          "base_uri": "https://localhost:8080/"
        },
        "id": "BYUc6151nXzB",
        "outputId": "84f92772-ce5a-4eb0-be3b-219f9421b4fb"
      },
      "source": [
        "best_model.fit(x_tr, y_tr, early_stopping_rounds=10, eval_set=eval_set, verbose=True)"
      ],
      "execution_count": null,
      "outputs": [
        {
          "output_type": "stream",
          "text": [
            "[02:29:22] WARNING: /workspace/src/objective/regression_obj.cu:152: reg:linear is now deprecated in favor of reg:squarederror.\n",
            "[0]\tvalidation_0-rmse:111.393\tvalidation_1-rmse:111.504\n",
            "Multiple eval metrics have been passed: 'validation_1-rmse' will be used for early stopping.\n",
            "\n",
            "Will train until validation_1-rmse hasn't improved in 10 rounds.\n",
            "[1]\tvalidation_0-rmse:101.909\tvalidation_1-rmse:102.019\n",
            "[2]\tvalidation_0-rmse:93.3229\tvalidation_1-rmse:93.4443\n",
            "[3]\tvalidation_0-rmse:85.5432\tvalidation_1-rmse:85.6629\n",
            "[4]\tvalidation_0-rmse:78.5088\tvalidation_1-rmse:78.6252\n",
            "[5]\tvalidation_0-rmse:72.1602\tvalidation_1-rmse:72.2802\n",
            "[6]\tvalidation_0-rmse:66.4276\tvalidation_1-rmse:66.546\n",
            "[7]\tvalidation_0-rmse:61.2603\tvalidation_1-rmse:61.3789\n",
            "[8]\tvalidation_0-rmse:56.6159\tvalidation_1-rmse:56.7328\n",
            "[9]\tvalidation_0-rmse:52.4414\tvalidation_1-rmse:52.5584\n",
            "[10]\tvalidation_0-rmse:48.6979\tvalidation_1-rmse:48.8135\n",
            "[11]\tvalidation_0-rmse:45.3444\tvalidation_1-rmse:45.46\n",
            "[12]\tvalidation_0-rmse:42.3414\tvalidation_1-rmse:42.4547\n",
            "[13]\tvalidation_0-rmse:39.6763\tvalidation_1-rmse:39.7845\n",
            "[14]\tvalidation_0-rmse:37.3053\tvalidation_1-rmse:37.4095\n",
            "[15]\tvalidation_0-rmse:35.2091\tvalidation_1-rmse:35.3107\n",
            "[16]\tvalidation_0-rmse:33.3592\tvalidation_1-rmse:33.4584\n",
            "[17]\tvalidation_0-rmse:31.7317\tvalidation_1-rmse:31.8286\n",
            "[18]\tvalidation_0-rmse:30.303\tvalidation_1-rmse:30.3968\n",
            "[19]\tvalidation_0-rmse:29.0493\tvalidation_1-rmse:29.1401\n",
            "[20]\tvalidation_0-rmse:27.9491\tvalidation_1-rmse:28.0339\n",
            "[21]\tvalidation_0-rmse:26.9784\tvalidation_1-rmse:27.0598\n",
            "[22]\tvalidation_0-rmse:26.1589\tvalidation_1-rmse:26.2371\n",
            "[23]\tvalidation_0-rmse:25.4176\tvalidation_1-rmse:25.492\n",
            "[24]\tvalidation_0-rmse:24.7144\tvalidation_1-rmse:24.7855\n",
            "[25]\tvalidation_0-rmse:24.1707\tvalidation_1-rmse:24.2389\n",
            "[26]\tvalidation_0-rmse:23.6531\tvalidation_1-rmse:23.7164\n",
            "[27]\tvalidation_0-rmse:23.2321\tvalidation_1-rmse:23.2934\n",
            "[28]\tvalidation_0-rmse:22.8579\tvalidation_1-rmse:22.9188\n",
            "[29]\tvalidation_0-rmse:22.5188\tvalidation_1-rmse:22.5769\n",
            "[30]\tvalidation_0-rmse:22.1957\tvalidation_1-rmse:22.252\n",
            "[31]\tvalidation_0-rmse:21.9471\tvalidation_1-rmse:22.0013\n",
            "[32]\tvalidation_0-rmse:21.7342\tvalidation_1-rmse:21.786\n",
            "[33]\tvalidation_0-rmse:21.4481\tvalidation_1-rmse:21.4966\n",
            "[34]\tvalidation_0-rmse:21.2683\tvalidation_1-rmse:21.3135\n",
            "[35]\tvalidation_0-rmse:21.1166\tvalidation_1-rmse:21.1605\n",
            "[36]\tvalidation_0-rmse:20.9493\tvalidation_1-rmse:20.9926\n",
            "[37]\tvalidation_0-rmse:20.8407\tvalidation_1-rmse:20.8827\n",
            "[38]\tvalidation_0-rmse:20.7306\tvalidation_1-rmse:20.77\n",
            "[39]\tvalidation_0-rmse:20.5436\tvalidation_1-rmse:20.5802\n",
            "[40]\tvalidation_0-rmse:20.4632\tvalidation_1-rmse:20.4991\n",
            "[41]\tvalidation_0-rmse:20.3862\tvalidation_1-rmse:20.4209\n",
            "[42]\tvalidation_0-rmse:20.3095\tvalidation_1-rmse:20.3428\n",
            "[43]\tvalidation_0-rmse:20.1662\tvalidation_1-rmse:20.1992\n",
            "[44]\tvalidation_0-rmse:20.1079\tvalidation_1-rmse:20.1406\n",
            "[45]\tvalidation_0-rmse:20.0333\tvalidation_1-rmse:20.065\n",
            "[46]\tvalidation_0-rmse:19.9875\tvalidation_1-rmse:20.0189\n",
            "[47]\tvalidation_0-rmse:19.9447\tvalidation_1-rmse:19.9753\n",
            "[48]\tvalidation_0-rmse:19.881\tvalidation_1-rmse:19.9113\n",
            "[49]\tvalidation_0-rmse:19.8391\tvalidation_1-rmse:19.8683\n",
            "[50]\tvalidation_0-rmse:19.7907\tvalidation_1-rmse:19.8201\n",
            "[51]\tvalidation_0-rmse:19.732\tvalidation_1-rmse:19.7596\n",
            "[52]\tvalidation_0-rmse:19.6954\tvalidation_1-rmse:19.7226\n",
            "[53]\tvalidation_0-rmse:19.6616\tvalidation_1-rmse:19.6883\n",
            "[54]\tvalidation_0-rmse:19.6155\tvalidation_1-rmse:19.642\n",
            "[55]\tvalidation_0-rmse:19.5886\tvalidation_1-rmse:19.6141\n",
            "[56]\tvalidation_0-rmse:19.5686\tvalidation_1-rmse:19.5938\n",
            "[57]\tvalidation_0-rmse:19.5397\tvalidation_1-rmse:19.5653\n",
            "[58]\tvalidation_0-rmse:19.5029\tvalidation_1-rmse:19.5279\n",
            "[59]\tvalidation_0-rmse:19.4863\tvalidation_1-rmse:19.5113\n",
            "[60]\tvalidation_0-rmse:19.4709\tvalidation_1-rmse:19.4949\n",
            "[61]\tvalidation_0-rmse:19.4521\tvalidation_1-rmse:19.4759\n",
            "[62]\tvalidation_0-rmse:19.4062\tvalidation_1-rmse:19.4293\n",
            "[63]\tvalidation_0-rmse:19.3734\tvalidation_1-rmse:19.3964\n",
            "[64]\tvalidation_0-rmse:19.3558\tvalidation_1-rmse:19.3783\n",
            "[65]\tvalidation_0-rmse:19.343\tvalidation_1-rmse:19.3656\n",
            "[66]\tvalidation_0-rmse:19.3211\tvalidation_1-rmse:19.3439\n",
            "[67]\tvalidation_0-rmse:19.2865\tvalidation_1-rmse:19.3088\n",
            "[68]\tvalidation_0-rmse:19.2611\tvalidation_1-rmse:19.2834\n",
            "[69]\tvalidation_0-rmse:19.2494\tvalidation_1-rmse:19.2718\n",
            "[70]\tvalidation_0-rmse:19.2387\tvalidation_1-rmse:19.2608\n",
            "[71]\tvalidation_0-rmse:19.2211\tvalidation_1-rmse:19.2431\n",
            "[72]\tvalidation_0-rmse:19.2072\tvalidation_1-rmse:19.229\n",
            "[73]\tvalidation_0-rmse:19.1952\tvalidation_1-rmse:19.2167\n",
            "[74]\tvalidation_0-rmse:19.1828\tvalidation_1-rmse:19.2039\n",
            "[75]\tvalidation_0-rmse:19.1655\tvalidation_1-rmse:19.1863\n",
            "[76]\tvalidation_0-rmse:19.1565\tvalidation_1-rmse:19.1776\n",
            "[77]\tvalidation_0-rmse:19.1487\tvalidation_1-rmse:19.1705\n",
            "[78]\tvalidation_0-rmse:19.1343\tvalidation_1-rmse:19.1557\n",
            "[79]\tvalidation_0-rmse:19.1146\tvalidation_1-rmse:19.1356\n",
            "[80]\tvalidation_0-rmse:19.1092\tvalidation_1-rmse:19.1304\n",
            "[81]\tvalidation_0-rmse:19.1026\tvalidation_1-rmse:19.1239\n",
            "[82]\tvalidation_0-rmse:19.0962\tvalidation_1-rmse:19.1177\n",
            "[83]\tvalidation_0-rmse:19.091\tvalidation_1-rmse:19.1124\n",
            "[84]\tvalidation_0-rmse:19.0759\tvalidation_1-rmse:19.0974\n",
            "[85]\tvalidation_0-rmse:19.0618\tvalidation_1-rmse:19.0833\n",
            "[86]\tvalidation_0-rmse:19.0557\tvalidation_1-rmse:19.0772\n",
            "[87]\tvalidation_0-rmse:19.0519\tvalidation_1-rmse:19.0735\n",
            "[88]\tvalidation_0-rmse:19.039\tvalidation_1-rmse:19.0601\n",
            "[89]\tvalidation_0-rmse:19.0354\tvalidation_1-rmse:19.0569\n",
            "[90]\tvalidation_0-rmse:19.0315\tvalidation_1-rmse:19.0532\n",
            "[91]\tvalidation_0-rmse:19.0212\tvalidation_1-rmse:19.0428\n",
            "[92]\tvalidation_0-rmse:19.0177\tvalidation_1-rmse:19.0396\n",
            "[93]\tvalidation_0-rmse:19.0126\tvalidation_1-rmse:19.0343\n",
            "[94]\tvalidation_0-rmse:19.01\tvalidation_1-rmse:19.0321\n",
            "[95]\tvalidation_0-rmse:18.9995\tvalidation_1-rmse:19.0219\n",
            "[96]\tvalidation_0-rmse:18.9903\tvalidation_1-rmse:19.0123\n",
            "[97]\tvalidation_0-rmse:18.9877\tvalidation_1-rmse:19.0099\n",
            "[98]\tvalidation_0-rmse:18.9822\tvalidation_1-rmse:19.0045\n",
            "[99]\tvalidation_0-rmse:18.9794\tvalidation_1-rmse:19.0019\n",
            "[100]\tvalidation_0-rmse:18.974\tvalidation_1-rmse:18.9961\n",
            "[101]\tvalidation_0-rmse:18.9724\tvalidation_1-rmse:18.9946\n",
            "[102]\tvalidation_0-rmse:18.9699\tvalidation_1-rmse:18.9925\n",
            "[103]\tvalidation_0-rmse:18.9654\tvalidation_1-rmse:18.9881\n",
            "[104]\tvalidation_0-rmse:18.9576\tvalidation_1-rmse:18.9803\n",
            "[105]\tvalidation_0-rmse:18.9553\tvalidation_1-rmse:18.9781\n",
            "[106]\tvalidation_0-rmse:18.9484\tvalidation_1-rmse:18.9708\n",
            "[107]\tvalidation_0-rmse:18.9463\tvalidation_1-rmse:18.9688\n",
            "[108]\tvalidation_0-rmse:18.9432\tvalidation_1-rmse:18.9657\n",
            "[109]\tvalidation_0-rmse:18.9407\tvalidation_1-rmse:18.9632\n",
            "[110]\tvalidation_0-rmse:18.9382\tvalidation_1-rmse:18.9608\n",
            "[111]\tvalidation_0-rmse:18.9332\tvalidation_1-rmse:18.9558\n",
            "[112]\tvalidation_0-rmse:18.9321\tvalidation_1-rmse:18.9546\n",
            "[113]\tvalidation_0-rmse:18.9292\tvalidation_1-rmse:18.9517\n",
            "[114]\tvalidation_0-rmse:18.9279\tvalidation_1-rmse:18.9506\n",
            "[115]\tvalidation_0-rmse:18.9263\tvalidation_1-rmse:18.949\n",
            "[116]\tvalidation_0-rmse:18.9186\tvalidation_1-rmse:18.9415\n",
            "[117]\tvalidation_0-rmse:18.9168\tvalidation_1-rmse:18.9401\n",
            "[118]\tvalidation_0-rmse:18.916\tvalidation_1-rmse:18.9393\n",
            "[119]\tvalidation_0-rmse:18.9117\tvalidation_1-rmse:18.9349\n",
            "[120]\tvalidation_0-rmse:18.9108\tvalidation_1-rmse:18.9341\n",
            "[121]\tvalidation_0-rmse:18.9071\tvalidation_1-rmse:18.9307\n",
            "[122]\tvalidation_0-rmse:18.9063\tvalidation_1-rmse:18.9299\n",
            "[123]\tvalidation_0-rmse:18.9028\tvalidation_1-rmse:18.9262\n",
            "[124]\tvalidation_0-rmse:18.8997\tvalidation_1-rmse:18.9232\n",
            "[125]\tvalidation_0-rmse:18.8982\tvalidation_1-rmse:18.9217\n",
            "[126]\tvalidation_0-rmse:18.8964\tvalidation_1-rmse:18.9201\n",
            "[127]\tvalidation_0-rmse:18.8957\tvalidation_1-rmse:18.9197\n",
            "[128]\tvalidation_0-rmse:18.8924\tvalidation_1-rmse:18.9164\n",
            "[129]\tvalidation_0-rmse:18.8917\tvalidation_1-rmse:18.9156\n",
            "[130]\tvalidation_0-rmse:18.8869\tvalidation_1-rmse:18.9113\n",
            "[131]\tvalidation_0-rmse:18.8858\tvalidation_1-rmse:18.9103\n",
            "[132]\tvalidation_0-rmse:18.8846\tvalidation_1-rmse:18.9092\n",
            "[133]\tvalidation_0-rmse:18.8835\tvalidation_1-rmse:18.9081\n",
            "[134]\tvalidation_0-rmse:18.8819\tvalidation_1-rmse:18.9064\n",
            "[135]\tvalidation_0-rmse:18.8805\tvalidation_1-rmse:18.9051\n",
            "[136]\tvalidation_0-rmse:18.8793\tvalidation_1-rmse:18.9041\n",
            "[137]\tvalidation_0-rmse:18.8756\tvalidation_1-rmse:18.9006\n",
            "[138]\tvalidation_0-rmse:18.8751\tvalidation_1-rmse:18.9001\n",
            "[139]\tvalidation_0-rmse:18.8729\tvalidation_1-rmse:18.8981\n",
            "[140]\tvalidation_0-rmse:18.8712\tvalidation_1-rmse:18.8966\n",
            "[141]\tvalidation_0-rmse:18.8693\tvalidation_1-rmse:18.8948\n",
            "[142]\tvalidation_0-rmse:18.8686\tvalidation_1-rmse:18.8941\n",
            "[143]\tvalidation_0-rmse:18.8676\tvalidation_1-rmse:18.8934\n",
            "[144]\tvalidation_0-rmse:18.8666\tvalidation_1-rmse:18.8923\n",
            "[145]\tvalidation_0-rmse:18.8661\tvalidation_1-rmse:18.8922\n",
            "[146]\tvalidation_0-rmse:18.8652\tvalidation_1-rmse:18.8912\n",
            "[147]\tvalidation_0-rmse:18.8623\tvalidation_1-rmse:18.8886\n",
            "[148]\tvalidation_0-rmse:18.8615\tvalidation_1-rmse:18.888\n",
            "[149]\tvalidation_0-rmse:18.8607\tvalidation_1-rmse:18.8877\n",
            "[150]\tvalidation_0-rmse:18.8571\tvalidation_1-rmse:18.8844\n",
            "[151]\tvalidation_0-rmse:18.8562\tvalidation_1-rmse:18.8837\n",
            "[152]\tvalidation_0-rmse:18.8556\tvalidation_1-rmse:18.8831\n",
            "[153]\tvalidation_0-rmse:18.8548\tvalidation_1-rmse:18.8823\n",
            "[154]\tvalidation_0-rmse:18.854\tvalidation_1-rmse:18.8817\n",
            "[155]\tvalidation_0-rmse:18.8511\tvalidation_1-rmse:18.879\n",
            "[156]\tvalidation_0-rmse:18.8507\tvalidation_1-rmse:18.8786\n",
            "[157]\tvalidation_0-rmse:18.8504\tvalidation_1-rmse:18.8784\n",
            "[158]\tvalidation_0-rmse:18.8493\tvalidation_1-rmse:18.8772\n",
            "[159]\tvalidation_0-rmse:18.8488\tvalidation_1-rmse:18.8769\n",
            "[160]\tvalidation_0-rmse:18.8483\tvalidation_1-rmse:18.8766\n",
            "[161]\tvalidation_0-rmse:18.8449\tvalidation_1-rmse:18.8733\n",
            "[162]\tvalidation_0-rmse:18.8443\tvalidation_1-rmse:18.8731\n",
            "[163]\tvalidation_0-rmse:18.8439\tvalidation_1-rmse:18.873\n",
            "[164]\tvalidation_0-rmse:18.841\tvalidation_1-rmse:18.8703\n",
            "[165]\tvalidation_0-rmse:18.8398\tvalidation_1-rmse:18.8693\n",
            "[166]\tvalidation_0-rmse:18.8395\tvalidation_1-rmse:18.8692\n",
            "[167]\tvalidation_0-rmse:18.8391\tvalidation_1-rmse:18.8689\n",
            "[168]\tvalidation_0-rmse:18.8386\tvalidation_1-rmse:18.8683\n",
            "[169]\tvalidation_0-rmse:18.8383\tvalidation_1-rmse:18.8684\n",
            "[170]\tvalidation_0-rmse:18.8374\tvalidation_1-rmse:18.8675\n",
            "[171]\tvalidation_0-rmse:18.837\tvalidation_1-rmse:18.8673\n",
            "[172]\tvalidation_0-rmse:18.8366\tvalidation_1-rmse:18.8672\n",
            "[173]\tvalidation_0-rmse:18.8363\tvalidation_1-rmse:18.8671\n",
            "[174]\tvalidation_0-rmse:18.8342\tvalidation_1-rmse:18.865\n",
            "[175]\tvalidation_0-rmse:18.8335\tvalidation_1-rmse:18.8647\n",
            "[176]\tvalidation_0-rmse:18.8332\tvalidation_1-rmse:18.8645\n",
            "[177]\tvalidation_0-rmse:18.8323\tvalidation_1-rmse:18.8638\n",
            "[178]\tvalidation_0-rmse:18.832\tvalidation_1-rmse:18.8637\n",
            "[179]\tvalidation_0-rmse:18.8315\tvalidation_1-rmse:18.8634\n",
            "[180]\tvalidation_0-rmse:18.831\tvalidation_1-rmse:18.8629\n",
            "[181]\tvalidation_0-rmse:18.8307\tvalidation_1-rmse:18.8628\n",
            "[182]\tvalidation_0-rmse:18.8294\tvalidation_1-rmse:18.8619\n",
            "[183]\tvalidation_0-rmse:18.8289\tvalidation_1-rmse:18.8615\n",
            "[184]\tvalidation_0-rmse:18.8284\tvalidation_1-rmse:18.8613\n",
            "[185]\tvalidation_0-rmse:18.8277\tvalidation_1-rmse:18.8607\n",
            "[186]\tvalidation_0-rmse:18.8275\tvalidation_1-rmse:18.8606\n",
            "[187]\tvalidation_0-rmse:18.8269\tvalidation_1-rmse:18.8603\n",
            "[188]\tvalidation_0-rmse:18.8266\tvalidation_1-rmse:18.8602\n",
            "[189]\tvalidation_0-rmse:18.8264\tvalidation_1-rmse:18.8602\n",
            "[190]\tvalidation_0-rmse:18.8261\tvalidation_1-rmse:18.8602\n",
            "[191]\tvalidation_0-rmse:18.8258\tvalidation_1-rmse:18.86\n",
            "[192]\tvalidation_0-rmse:18.8253\tvalidation_1-rmse:18.8598\n",
            "[193]\tvalidation_0-rmse:18.825\tvalidation_1-rmse:18.8598\n",
            "[194]\tvalidation_0-rmse:18.8248\tvalidation_1-rmse:18.8597\n",
            "[195]\tvalidation_0-rmse:18.824\tvalidation_1-rmse:18.8591\n",
            "[196]\tvalidation_0-rmse:18.8232\tvalidation_1-rmse:18.8582\n",
            "[197]\tvalidation_0-rmse:18.823\tvalidation_1-rmse:18.8583\n",
            "[198]\tvalidation_0-rmse:18.8226\tvalidation_1-rmse:18.8582\n",
            "[199]\tvalidation_0-rmse:18.822\tvalidation_1-rmse:18.8577\n",
            "[200]\tvalidation_0-rmse:18.8217\tvalidation_1-rmse:18.8577\n",
            "[201]\tvalidation_0-rmse:18.8213\tvalidation_1-rmse:18.8575\n",
            "[202]\tvalidation_0-rmse:18.8211\tvalidation_1-rmse:18.8575\n",
            "[203]\tvalidation_0-rmse:18.8208\tvalidation_1-rmse:18.8575\n",
            "[204]\tvalidation_0-rmse:18.8202\tvalidation_1-rmse:18.8571\n",
            "[205]\tvalidation_0-rmse:18.8198\tvalidation_1-rmse:18.8571\n",
            "[206]\tvalidation_0-rmse:18.8195\tvalidation_1-rmse:18.8573\n",
            "[207]\tvalidation_0-rmse:18.8191\tvalidation_1-rmse:18.8571\n",
            "[208]\tvalidation_0-rmse:18.8189\tvalidation_1-rmse:18.8571\n",
            "[209]\tvalidation_0-rmse:18.8184\tvalidation_1-rmse:18.8566\n",
            "[210]\tvalidation_0-rmse:18.8181\tvalidation_1-rmse:18.8565\n",
            "[211]\tvalidation_0-rmse:18.8179\tvalidation_1-rmse:18.8565\n",
            "[212]\tvalidation_0-rmse:18.8176\tvalidation_1-rmse:18.8566\n",
            "[213]\tvalidation_0-rmse:18.817\tvalidation_1-rmse:18.8561\n",
            "[214]\tvalidation_0-rmse:18.8168\tvalidation_1-rmse:18.8561\n",
            "[215]\tvalidation_0-rmse:18.8165\tvalidation_1-rmse:18.8561\n",
            "[216]\tvalidation_0-rmse:18.8162\tvalidation_1-rmse:18.8559\n",
            "[217]\tvalidation_0-rmse:18.8159\tvalidation_1-rmse:18.8559\n",
            "[218]\tvalidation_0-rmse:18.8156\tvalidation_1-rmse:18.8559\n",
            "[219]\tvalidation_0-rmse:18.8155\tvalidation_1-rmse:18.8559\n",
            "[220]\tvalidation_0-rmse:18.8152\tvalidation_1-rmse:18.8558\n",
            "[221]\tvalidation_0-rmse:18.8149\tvalidation_1-rmse:18.8557\n",
            "[222]\tvalidation_0-rmse:18.8146\tvalidation_1-rmse:18.8556\n",
            "[223]\tvalidation_0-rmse:18.8143\tvalidation_1-rmse:18.8557\n",
            "[224]\tvalidation_0-rmse:18.8139\tvalidation_1-rmse:18.8555\n",
            "[225]\tvalidation_0-rmse:18.8136\tvalidation_1-rmse:18.8555\n",
            "[226]\tvalidation_0-rmse:18.8131\tvalidation_1-rmse:18.8552\n",
            "[227]\tvalidation_0-rmse:18.8128\tvalidation_1-rmse:18.8551\n",
            "[228]\tvalidation_0-rmse:18.8124\tvalidation_1-rmse:18.8547\n",
            "[229]\tvalidation_0-rmse:18.8121\tvalidation_1-rmse:18.8547\n",
            "[230]\tvalidation_0-rmse:18.812\tvalidation_1-rmse:18.8547\n",
            "[231]\tvalidation_0-rmse:18.8117\tvalidation_1-rmse:18.8545\n",
            "[232]\tvalidation_0-rmse:18.8112\tvalidation_1-rmse:18.8542\n",
            "[233]\tvalidation_0-rmse:18.8108\tvalidation_1-rmse:18.8539\n",
            "[234]\tvalidation_0-rmse:18.8104\tvalidation_1-rmse:18.8539\n",
            "[235]\tvalidation_0-rmse:18.8102\tvalidation_1-rmse:18.8539\n",
            "[236]\tvalidation_0-rmse:18.8098\tvalidation_1-rmse:18.8538\n",
            "[237]\tvalidation_0-rmse:18.8095\tvalidation_1-rmse:18.8536\n",
            "[238]\tvalidation_0-rmse:18.809\tvalidation_1-rmse:18.8534\n",
            "[239]\tvalidation_0-rmse:18.8089\tvalidation_1-rmse:18.8533\n",
            "[240]\tvalidation_0-rmse:18.8084\tvalidation_1-rmse:18.8529\n",
            "[241]\tvalidation_0-rmse:18.8081\tvalidation_1-rmse:18.8528\n",
            "[242]\tvalidation_0-rmse:18.8078\tvalidation_1-rmse:18.8527\n",
            "[243]\tvalidation_0-rmse:18.8075\tvalidation_1-rmse:18.8528\n",
            "[244]\tvalidation_0-rmse:18.8072\tvalidation_1-rmse:18.8527\n",
            "[245]\tvalidation_0-rmse:18.807\tvalidation_1-rmse:18.8526\n",
            "[246]\tvalidation_0-rmse:18.8068\tvalidation_1-rmse:18.8527\n",
            "[247]\tvalidation_0-rmse:18.8064\tvalidation_1-rmse:18.8527\n",
            "[248]\tvalidation_0-rmse:18.8063\tvalidation_1-rmse:18.8527\n",
            "[249]\tvalidation_0-rmse:18.806\tvalidation_1-rmse:18.8527\n",
            "[250]\tvalidation_0-rmse:18.8056\tvalidation_1-rmse:18.8526\n",
            "[251]\tvalidation_0-rmse:18.8054\tvalidation_1-rmse:18.8525\n",
            "[252]\tvalidation_0-rmse:18.8052\tvalidation_1-rmse:18.8524\n",
            "[253]\tvalidation_0-rmse:18.805\tvalidation_1-rmse:18.8525\n",
            "[254]\tvalidation_0-rmse:18.8047\tvalidation_1-rmse:18.8522\n",
            "[255]\tvalidation_0-rmse:18.8043\tvalidation_1-rmse:18.852\n",
            "[256]\tvalidation_0-rmse:18.8041\tvalidation_1-rmse:18.8517\n",
            "[257]\tvalidation_0-rmse:18.8039\tvalidation_1-rmse:18.8516\n",
            "[258]\tvalidation_0-rmse:18.8036\tvalidation_1-rmse:18.8518\n",
            "[259]\tvalidation_0-rmse:18.8034\tvalidation_1-rmse:18.8518\n",
            "[260]\tvalidation_0-rmse:18.8031\tvalidation_1-rmse:18.8519\n",
            "[261]\tvalidation_0-rmse:18.8027\tvalidation_1-rmse:18.8516\n",
            "[262]\tvalidation_0-rmse:18.8025\tvalidation_1-rmse:18.8515\n",
            "[263]\tvalidation_0-rmse:18.8022\tvalidation_1-rmse:18.8515\n",
            "[264]\tvalidation_0-rmse:18.802\tvalidation_1-rmse:18.8515\n",
            "[265]\tvalidation_0-rmse:18.8017\tvalidation_1-rmse:18.8515\n",
            "[266]\tvalidation_0-rmse:18.8015\tvalidation_1-rmse:18.8514\n",
            "[267]\tvalidation_0-rmse:18.8013\tvalidation_1-rmse:18.8514\n",
            "[268]\tvalidation_0-rmse:18.8008\tvalidation_1-rmse:18.8512\n",
            "[269]\tvalidation_0-rmse:18.8006\tvalidation_1-rmse:18.8511\n",
            "[270]\tvalidation_0-rmse:18.8005\tvalidation_1-rmse:18.8512\n",
            "[271]\tvalidation_0-rmse:18.8003\tvalidation_1-rmse:18.8513\n",
            "[272]\tvalidation_0-rmse:18.8001\tvalidation_1-rmse:18.8514\n",
            "[273]\tvalidation_0-rmse:18.7998\tvalidation_1-rmse:18.8514\n",
            "[274]\tvalidation_0-rmse:18.7996\tvalidation_1-rmse:18.8515\n",
            "[275]\tvalidation_0-rmse:18.7994\tvalidation_1-rmse:18.8515\n",
            "[276]\tvalidation_0-rmse:18.7991\tvalidation_1-rmse:18.8515\n",
            "[277]\tvalidation_0-rmse:18.799\tvalidation_1-rmse:18.8515\n",
            "[278]\tvalidation_0-rmse:18.7987\tvalidation_1-rmse:18.8515\n",
            "[279]\tvalidation_0-rmse:18.7985\tvalidation_1-rmse:18.8515\n",
            "Stopping. Best iteration:\n",
            "[269]\tvalidation_0-rmse:18.8006\tvalidation_1-rmse:18.8511\n",
            "\n"
          ],
          "name": "stdout"
        },
        {
          "output_type": "execute_result",
          "data": {
            "text/plain": [
              "XGBRegressor(base_score=0.5, booster='gbtree', colsample_bylevel=1,\n",
              "             colsample_bynode=1, colsample_bytree=1, gamma=0,\n",
              "             importance_type='gain', learning_rate=0.09, max_delta_step=0,\n",
              "             max_depth=5, min_child_weight=5, missing=None, n_estimators=440,\n",
              "             n_jobs=1, nthread=None, objective='reg:linear', random_state=0,\n",
              "             reg_alpha=0, reg_lambda=1, scale_pos_weight=1, seed=None,\n",
              "             silent=None, subsample=1, verbosity=1)"
            ]
          },
          "metadata": {
            "tags": []
          },
          "execution_count": 26
        }
      ]
    },
    {
      "cell_type": "markdown",
      "metadata": {
        "id": "Rvldrqs2o7B6"
      },
      "source": [
        "Best early stopping round is 269"
      ]
    },
    {
      "cell_type": "markdown",
      "metadata": {
        "id": "Cp2yqSfGpyyp"
      },
      "source": [
        "### ---- 12 Deploy solution ----"
      ]
    },
    {
      "cell_type": "code",
      "metadata": {
        "id": "MjX4XXRBxNpp"
      },
      "source": [
        "# To convert test_salaries into a csv file\n",
        "test['predictions'] = pred\n",
        "test_salaries = test['predictions']\n",
        "test_salaries.to_csv('test_salaries.csv')"
      ],
      "execution_count": null,
      "outputs": []
    },
    {
      "cell_type": "code",
      "metadata": {
        "id": "_98GNnH7AYQk"
      },
      "source": [
        "from google.colab import files # To download the csv file\n",
        "files.download('test_salaries.csv')"
      ],
      "execution_count": null,
      "outputs": []
    },
    {
      "cell_type": "code",
      "metadata": {
        "id": "Q7x5opKjACfg"
      },
      "source": [
        "# Visualizing the predicted salaries\n",
        "test_salaries.hist()\n",
        "test_salaries.describe()"
      ],
      "execution_count": null,
      "outputs": []
    },
    {
      "cell_type": "code",
      "metadata": {
        "colab": {
          "base_uri": "https://localhost:8080/",
          "height": 544
        },
        "id": "RiLohvyZpyyp",
        "outputId": "4ffd5739-46c1-4692-9695-630324acf48a"
      },
      "source": [
        "# Let us see feature importance with xg boost\n",
        "feature_importances = pd.Series(best_model.feature_importances_, index=x_tr.columns)\n",
        "print(feature_importances)\n",
        "feature_importances.sort_values(inplace=True)\n",
        "feature_importances.plot(kind='barh', figsize=(7,6))"
      ],
      "execution_count": null,
      "outputs": [
        {
          "output_type": "stream",
          "text": [
            "companyId              0.000300\n",
            "jobType                0.360836\n",
            "degree                 0.048311\n",
            "major                  0.035029\n",
            "industry               0.064927\n",
            "yearsExperience        0.134958\n",
            "milesFromMetropolis    0.068280\n",
            "edu_level              0.287358\n",
            "dtype: float32\n"
          ],
          "name": "stdout"
        },
        {
          "output_type": "execute_result",
          "data": {
            "text/plain": [
              "<matplotlib.axes._subplots.AxesSubplot at 0x7f1418324e90>"
            ]
          },
          "metadata": {
            "tags": []
          },
          "execution_count": 65
        },
        {
          "output_type": "display_data",
          "data": {
            "image/png": "[encoded data removed]",
            "text/plain": [
              "<Figure size 504x432 with 1 Axes>"
            ]
          },
          "metadata": {
            "tags": [],
            "needs_background": "light"
          }
        }
      ]
    },
    {
      "cell_type": "markdown",
      "metadata": {
        "id": "sdHVWN1LA2Tu"
      },
      "source": [
        "The new feature column edu_level is an important predictor for this model."
      ]
    },
    {
      "cell_type": "markdown",
      "metadata": {
        "id": "ehqfPzOBpyyp"
      },
      "source": [
        "### ---- 13 Measure efficacy ----"
      ]
    },
    {
      "cell_type": "markdown",
      "metadata": {
        "id": "b81wkA-Mpyyp"
      },
      "source": [
        "We'll skip this step since we don't have the outcomes for the test data"
      ]
    },
    {
      "cell_type": "code",
      "metadata": {
        "id": "R3MQ8gk4pyyq"
      },
      "source": [
        ""
      ],
      "execution_count": null,
      "outputs": []
    },
    {
      "cell_type": "code",
      "metadata": {
        "id": "BnSWQWt1pyyq"
      },
      "source": [
        ""
      ],
      "execution_count": null,
      "outputs": []
    },
    {
      "cell_type": "code",
      "metadata": {
        "id": "WLrlYCOGpyyq"
      },
      "source": [
        ""
      ],
      "execution_count": null,
      "outputs": []
    },
    {
      "cell_type": "code",
      "metadata": {
        "id": "NYwtp1cQpyyq"
      },
      "source": [
        ""
      ],
      "execution_count": null,
      "outputs": []
    }
  ]
}